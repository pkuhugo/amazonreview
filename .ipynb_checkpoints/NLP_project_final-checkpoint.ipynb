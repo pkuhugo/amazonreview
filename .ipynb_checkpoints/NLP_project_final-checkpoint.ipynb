{
 "cells": [
  {
   "cell_type": "code",
   "execution_count": 2,
   "metadata": {
    "collapsed": false
   },
   "outputs": [],
   "source": [
    "%matplotlib inline\n",
    "\n",
    "import time\n",
    "import functools\n",
    "import sqlite3\n",
    "import pandas as pd\n",
    "import numpy as np\n",
    "import nltk\n",
    "nltk.data.path.append('/Users/Hugo/nltk_data/')\n",
    "import string\n",
    "import matplotlib.pyplot as plt\n",
    "import numpy as np\n",
    "import scipy.sparse as sparse\n",
    "\n",
    "from sklearn.feature_extraction.text import TfidfTransformer\n",
    "from sklearn.feature_extraction.text import CountVectorizer\n",
    "from sklearn.feature_extraction.text import TfidfVectorizer\n",
    "from sklearn.cross_validation import train_test_split\n",
    "from sklearn.metrics import confusion_matrix\n",
    "from sklearn import metrics\n",
    "from nltk.corpus import stopwords\n",
    "from sklearn.cross_validation import StratifiedKFold\n",
    "from sklearn.naive_bayes import BernoulliNB\n",
    "from sklearn import linear_model\n",
    "from sklearn.tree import DecisionTreeClassifier\n",
    "from sklearn.decomposition import TruncatedSVD\n",
    "from sklearn.metrics import recall_score\n",
    "from sklearn.model_selection import train_test_split"
   ]
  },
  {
   "cell_type": "markdown",
   "metadata": {},
   "source": [
    "### Get Familiar with dataset"
   ]
  },
  {
   "cell_type": "code",
   "execution_count": 3,
   "metadata": {
    "collapsed": false
   },
   "outputs": [
    {
     "data": {
      "text/plain": [
       "pandas.core.frame.DataFrame"
      ]
     },
     "execution_count": 3,
     "metadata": {},
     "output_type": "execute_result"
    }
   ],
   "source": [
    "# Load csv file into DataFrame\n",
    "kindle_data = pd.read_csv('sampled_data.csv')\n",
    "type(kindle_data)"
   ]
  },
  {
   "cell_type": "code",
   "execution_count": 4,
   "metadata": {
    "collapsed": false
   },
   "outputs": [
    {
     "name": "stdout",
     "output_type": "stream",
     "text": [
      "('overall    :', 'pos')\n",
      "('reviewText :', 'This book ended even before it started and it made me want for more. Oh oh such a teaser. I want the book now please. So exciting.')\n"
     ]
    }
   ],
   "source": [
    "# Print first row\n",
    "# Format: data_frame.col_nam[row]\n",
    "print(\"overall    :\", kindle_data.overall[0])\n",
    "print(\"reviewText :\", kindle_data.reviewText[0])"
   ]
  },
  {
   "cell_type": "code",
   "execution_count": 5,
   "metadata": {
    "collapsed": false
   },
   "outputs": [
    {
     "data": {
      "text/plain": [
       "126871"
      ]
     },
     "execution_count": 5,
     "metadata": {},
     "output_type": "execute_result"
    }
   ],
   "source": [
    "# Length of kindle_data\n",
    "len(kindle_data)"
   ]
  },
  {
   "cell_type": "code",
   "execution_count": 6,
   "metadata": {
    "collapsed": false
   },
   "outputs": [
    {
     "data": {
      "text/html": [
       "<div>\n",
       "<table border=\"1\" class=\"dataframe\">\n",
       "  <thead>\n",
       "    <tr style=\"text-align: right;\">\n",
       "      <th></th>\n",
       "      <th>overall</th>\n",
       "      <th>reviewText</th>\n",
       "    </tr>\n",
       "  </thead>\n",
       "  <tbody>\n",
       "    <tr>\n",
       "      <th>0</th>\n",
       "      <td>pos</td>\n",
       "      <td>This book ended even before it started and it ...</td>\n",
       "    </tr>\n",
       "    <tr>\n",
       "      <th>1</th>\n",
       "      <td>pos</td>\n",
       "      <td>This is a great read with so much emotion you ...</td>\n",
       "    </tr>\n",
       "    <tr>\n",
       "      <th>2</th>\n",
       "      <td>pos</td>\n",
       "      <td>It&amp;#8217;s Christmas Eve and miraculously, Sal...</td>\n",
       "    </tr>\n",
       "    <tr>\n",
       "      <th>3</th>\n",
       "      <td>pos</td>\n",
       "      <td>I enjoyed meeting the character of Cassandra. ...</td>\n",
       "    </tr>\n",
       "    <tr>\n",
       "      <th>4</th>\n",
       "      <td>pos</td>\n",
       "      <td>Can I be the next Hunter wife?  Again, I have ...</td>\n",
       "    </tr>\n",
       "  </tbody>\n",
       "</table>\n",
       "</div>"
      ],
      "text/plain": [
       "  overall                                         reviewText\n",
       "0     pos  This book ended even before it started and it ...\n",
       "1     pos  This is a great read with so much emotion you ...\n",
       "2     pos  It&#8217;s Christmas Eve and miraculously, Sal...\n",
       "3     pos  I enjoyed meeting the character of Cassandra. ...\n",
       "4     pos  Can I be the next Hunter wife?  Again, I have ..."
      ]
     },
     "execution_count": 6,
     "metadata": {},
     "output_type": "execute_result"
    }
   ],
   "source": [
    "# Get a sample (head) of the data frame\n",
    "kindle_data.head()"
   ]
  },
  {
   "cell_type": "code",
   "execution_count": 7,
   "metadata": {
    "collapsed": false
   },
   "outputs": [
    {
     "data": {
      "text/plain": [
       "pos    64559\n",
       "neg    62312\n",
       "Name: overall, dtype: int64"
      ]
     },
     "execution_count": 7,
     "metadata": {},
     "output_type": "execute_result"
    }
   ],
   "source": [
    "# Statics on tags\n",
    "kindle_data.overall.value_counts()"
   ]
  },
  {
   "cell_type": "code",
   "execution_count": 8,
   "metadata": {
    "collapsed": false
   },
   "outputs": [],
   "source": [
    "def splitPosNeg(data_):\n",
    "    neg = data_.loc[data_.overall=='neg']\n",
    "    pos = data_.loc[data_.overall=='pos']\n",
    "    return [pos,neg]\n",
    "\n",
    "[pos,neg] = splitPosNeg(kindle_data)"
   ]
  },
  {
   "cell_type": "code",
   "execution_count": 9,
   "metadata": {
    "collapsed": false
   },
   "outputs": [
    {
     "name": "stdout",
     "output_type": "stream",
     "text": [
      "<class 'pandas.core.frame.DataFrame'>\n",
      "('pos:', 64559, ', neg:', 62312)\n"
     ]
    }
   ],
   "source": [
    "print(type(pos))\n",
    "print(\"pos:\", len(pos), \", neg:\", len(neg))"
   ]
  },
  {
   "cell_type": "markdown",
   "metadata": {},
   "source": [
    "### Preprocessing"
   ]
  },
  {
   "cell_type": "code",
   "execution_count": 10,
   "metadata": {
    "collapsed": false
   },
   "outputs": [],
   "source": [
    "lemmatizer = nltk.WordNetLemmatizer()\n",
    "stop = stopwords.words('english')\n",
    "translation = string.maketrans(string.punctuation,' '*len(string.punctuation))"
   ]
  },
  {
   "cell_type": "code",
   "execution_count": 11,
   "metadata": {
    "collapsed": false
   },
   "outputs": [
    {
     "data": {
      "text/plain": [
       "'\\x00\\x01\\x02\\x03\\x04\\x05\\x06\\x07\\x08\\t\\n\\x0b\\x0c\\r\\x0e\\x0f\\x10\\x11\\x12\\x13\\x14\\x15\\x16\\x17\\x18\\x19\\x1a\\x1b\\x1c\\x1d\\x1e\\x1f                0123456789       ABCDEFGHIJKLMNOPQRSTUVWXYZ      abcdefghijklmnopqrstuvwxyz    \\x7f\\x80\\x81\\x82\\x83\\x84\\x85\\x86\\x87\\x88\\x89\\x8a\\x8b\\x8c\\x8d\\x8e\\x8f\\x90\\x91\\x92\\x93\\x94\\x95\\x96\\x97\\x98\\x99\\x9a\\x9b\\x9c\\x9d\\x9e\\x9f\\xa0\\xa1\\xa2\\xa3\\xa4\\xa5\\xa6\\xa7\\xa8\\xa9\\xaa\\xab\\xac\\xad\\xae\\xaf\\xb0\\xb1\\xb2\\xb3\\xb4\\xb5\\xb6\\xb7\\xb8\\xb9\\xba\\xbb\\xbc\\xbd\\xbe\\xbf\\xc0\\xc1\\xc2\\xc3\\xc4\\xc5\\xc6\\xc7\\xc8\\xc9\\xca\\xcb\\xcc\\xcd\\xce\\xcf\\xd0\\xd1\\xd2\\xd3\\xd4\\xd5\\xd6\\xd7\\xd8\\xd9\\xda\\xdb\\xdc\\xdd\\xde\\xdf\\xe0\\xe1\\xe2\\xe3\\xe4\\xe5\\xe6\\xe7\\xe8\\xe9\\xea\\xeb\\xec\\xed\\xee\\xef\\xf0\\xf1\\xf2\\xf3\\xf4\\xf5\\xf6\\xf7\\xf8\\xf9\\xfa\\xfb\\xfc\\xfd\\xfe\\xff'"
      ]
     },
     "execution_count": 11,
     "metadata": {},
     "output_type": "execute_result"
    }
   ],
   "source": [
    "translation"
   ]
  },
  {
   "cell_type": "code",
   "execution_count": 12,
   "metadata": {
    "collapsed": false
   },
   "outputs": [
    {
     "data": {
      "text/plain": [
       "'!\"#$%&\\'()*+,-./:;<=>?@[\\\\]^_`{|}~'"
      ]
     },
     "execution_count": 12,
     "metadata": {},
     "output_type": "execute_result"
    }
   ],
   "source": [
    "string.punctuation"
   ]
  },
  {
   "cell_type": "code",
   "execution_count": 13,
   "metadata": {
    "collapsed": false
   },
   "outputs": [
    {
     "data": {
      "text/plain": [
       "'dedef'"
      ]
     },
     "execution_count": 13,
     "metadata": {},
     "output_type": "execute_result"
    }
   ],
   "source": [
    "transtbl = string.maketrans('abc','def')\n",
    "'ababc'.translate(transtbl)"
   ]
  },
  {
   "cell_type": "code",
   "execution_count": 21,
   "metadata": {
    "collapsed": false
   },
   "outputs": [],
   "source": [
    "def preprocessing(line):\n",
    "    tokens=[]\n",
    "    line = str(line).translate(translation)  # Replace punctuation\n",
    "    line = nltk.word_tokenize(line.lower())  # Tokenize\n",
    "    \n",
    "    for t in line:\n",
    "        # Remove stopwords\n",
    "        if t not in stop:\n",
    "            stemmed = lemmatizer.lemmatize(t)\n",
    "            tokens.append(stemmed)\n",
    "    \n",
    "    return ' '.join(tokens)"
   ]
  },
  {
   "cell_type": "code",
   "execution_count": null,
   "metadata": {
    "collapsed": false
   },
   "outputs": [],
   "source": [
    "# Yet a more compact way to write the code\n",
    "def preprocessing(line: str) -> str:\n",
    "    line = str(line).translate(translation)\n",
    "    line = nltk.word_tokenize(line.lower())\n",
    "    \n",
    "    line = [lemmatizer.lemmatize(t) for t in line if t not in stop]\n",
    "    return ' '.join(line)"
   ]
  },
  {
   "cell_type": "code",
   "execution_count": 22,
   "metadata": {
    "collapsed": false,
    "scrolled": true
   },
   "outputs": [
    {
     "data": {
      "text/plain": [
       "'bought yesterday really love'"
      ]
     },
     "execution_count": 22,
     "metadata": {},
     "output_type": "execute_result"
    }
   ],
   "source": [
    "nltk.data.path.append('/Users/Hugo/nltk_data1/')\n",
    "test_str = \"I bought it yesterday and I really love it!\"\n",
    "preprocessing(test_str)"
   ]
  },
  {
   "cell_type": "code",
   "execution_count": 23,
   "metadata": {
    "collapsed": false
   },
   "outputs": [
    {
     "name": "stdout",
     "output_type": "stream",
     "text": [
      "251.536102057\n"
     ]
    }
   ],
   "source": [
    "# Preprocess all data\n",
    "start = time.time()\n",
    "\n",
    "pos_data = [preprocessing(p) for p in pos['reviewText']]\n",
    "neg_data = [preprocessing(p) for p in neg['reviewText']]\n",
    "\n",
    "end = time.time()\n",
    "print(end - start)"
   ]
  },
  {
   "cell_type": "code",
   "execution_count": 105,
   "metadata": {
    "collapsed": false
   },
   "outputs": [
    {
     "data": {
      "text/plain": [
       "list"
      ]
     },
     "execution_count": 105,
     "metadata": {},
     "output_type": "execute_result"
    }
   ],
   "source": [
    "type(pos_data)"
   ]
  },
  {
   "cell_type": "code",
   "execution_count": 24,
   "metadata": {
    "collapsed": false
   },
   "outputs": [],
   "source": [
    "# Yet a more modern way to write code\n",
    "pos_data = list(map(preprocessing, pos['reviewText']))\n",
    "neg_data = list(map(preprocessing, neg['reviewText']))"
   ]
  },
  {
   "cell_type": "markdown",
   "metadata": {},
   "source": [
    "### Some modern functions to introduce\n",
    "- map\n",
    "- reduce\n",
    "- filter\n",
    "\n",
    "They are very useful when running the project on a cluster or distributed compute system like Hadoop or Spark."
   ]
  },
  {
   "cell_type": "code",
   "execution_count": 25,
   "metadata": {
    "collapsed": false
   },
   "outputs": [
    {
     "ename": "SyntaxError",
     "evalue": "invalid syntax (<ipython-input-25-f8028472e0a0>, line 5)",
     "output_type": "error",
     "traceback": [
      "\u001b[0;36m  File \u001b[0;32m\"<ipython-input-25-f8028472e0a0>\"\u001b[0;36m, line \u001b[0;32m5\u001b[0m\n\u001b[0;31m    def square(x: int) -> int:\u001b[0m\n\u001b[0m                ^\u001b[0m\n\u001b[0;31mSyntaxError\u001b[0m\u001b[0;31m:\u001b[0m invalid syntax\n"
     ]
    }
   ],
   "source": [
    "# Some useful modern functions\n",
    "l = [0,1,2,3,4,5,6,7,8,9]\n",
    "\n",
    "# Map\n",
    "def square(x: int) -> int:\n",
    "    return x * x\n",
    "\n",
    "print( list(map(square, l)) )"
   ]
  },
  {
   "cell_type": "code",
   "execution_count": null,
   "metadata": {
    "collapsed": false
   },
   "outputs": [],
   "source": [
    "# Using lambda function\n",
    "print( list(map(lambda x: x * x, l)) )"
   ]
  },
  {
   "cell_type": "code",
   "execution_count": null,
   "metadata": {
    "collapsed": false
   },
   "outputs": [],
   "source": [
    "# Reduce\n",
    "# reduce function is moved to functools\n",
    "def add(x, y):\n",
    "    return x + y\n",
    "\n",
    "rst = functools.reduce(add, l)\n",
    "print (\"reduce\", l, \"by add:\", rst)"
   ]
  },
  {
   "cell_type": "code",
   "execution_count": null,
   "metadata": {
    "collapsed": false
   },
   "outputs": [],
   "source": [
    "# Using lambda function\n",
    "rst = functools.reduce(lambda x, y: x + y, l)\n",
    "print (\"reduce\", l, \"by add:\", rst)"
   ]
  },
  {
   "cell_type": "code",
   "execution_count": null,
   "metadata": {
    "collapsed": false
   },
   "outputs": [],
   "source": [
    "rst = functools.reduce(lambda x, y: max(x, y), l)\n",
    "print (\"reduce\", l, \"by max:\", rst)"
   ]
  },
  {
   "cell_type": "code",
   "execution_count": null,
   "metadata": {
    "collapsed": false
   },
   "outputs": [],
   "source": [
    "# Filter\n",
    "# Much faster than loop, similar with list comprehension\n",
    "list(filter(lambda x: x < 5, l))"
   ]
  },
  {
   "cell_type": "markdown",
   "metadata": {},
   "source": [
    "### Split Training Data & Test Data"
   ]
  },
  {
   "cell_type": "code",
   "execution_count": 26,
   "metadata": {
    "collapsed": false
   },
   "outputs": [],
   "source": [
    "data = pos_data + neg_data\n",
    "# remember this is sampled\n",
    "labels = np.concatenate((pos['overall'].values,neg['overall'].values))"
   ]
  },
  {
   "cell_type": "code",
   "execution_count": 27,
   "metadata": {
    "collapsed": false
   },
   "outputs": [],
   "source": [
    "# Split data into training set and testing set (20:80)\n",
    "# stratify: make sure pos/neg remains the same in training set and testing set\n",
    "train_data, test_data, train_labels, test_labels = \\\n",
    "train_test_split(data, labels, test_size=0.2, stratify=labels, random_state=1234)"
   ]
  },
  {
   "cell_type": "code",
   "execution_count": 28,
   "metadata": {
    "collapsed": false
   },
   "outputs": [
    {
     "name": "stdout",
     "output_type": "stream",
     "text": [
      "('training size = ', 101496, 'testing size = ', 25375)\n"
     ]
    }
   ],
   "source": [
    "print(\"training size = \", len(train_data), \"testing size = \", len(test_data))"
   ]
  },
  {
   "cell_type": "markdown",
   "metadata": {},
   "source": [
    "#### Underfitting vs Overfitting\n",
    "![](http://scikit-learn.org/stable/_images/sphx_glr_plot_underfitting_overfitting_001.png)"
   ]
  },
  {
   "cell_type": "code",
   "execution_count": 29,
   "metadata": {
    "collapsed": false
   },
   "outputs": [],
   "source": [
    "# Push all tokens and compute frequency of words\n",
    "t = []\n",
    "for line in train_data:\n",
    "    l = nltk.word_tokenize(line)\n",
    "    for w in l:\n",
    "        t.append(w)\n",
    "        \n",
    "word_features = nltk.FreqDist(t)"
   ]
  },
  {
   "cell_type": "code",
   "execution_count": 31,
   "metadata": {
    "collapsed": false
   },
   "outputs": [
    {
     "data": {
      "text/plain": [
       "['wife',\n",
       " 'got',\n",
       " 'book',\n",
       " 'loved',\n",
       " 'reminded',\n",
       " 'important',\n",
       " 'santa',\n",
       " 'thanks',\n",
       " 'much',\n",
       " 'writing']"
      ]
     },
     "execution_count": 31,
     "metadata": {},
     "output_type": "execute_result"
    }
   ],
   "source": [
    "t[:10]"
   ]
  },
  {
   "cell_type": "code",
   "execution_count": null,
   "metadata": {
    "collapsed": false
   },
   "outputs": [],
   "source": [
    "# Yet another more python-y style\n",
    "tokens = [word for line in train_data \\\n",
    "               for word in nltk.word_tokenize(line)]\n",
    "\n",
    "word_features = nltk.FreqDist(tokens)"
   ]
  },
  {
   "cell_type": "code",
   "execution_count": 33,
   "metadata": {
    "collapsed": false
   },
   "outputs": [
    {
     "name": "stdout",
     "output_type": "stream",
     "text": [
      "<FreqDist with 84617 samples and 4195256 outcomes>\n"
     ]
    }
   ],
   "source": [
    "print(word_features)"
   ]
  },
  {
   "cell_type": "code",
   "execution_count": 34,
   "metadata": {
    "collapsed": false
   },
   "outputs": [
    {
     "data": {
      "text/plain": [
       "[('book', 124073),\n",
       " (u'story', 62132),\n",
       " (u'read', 55777),\n",
       " (u'one', 36880),\n",
       " ('like', 32032),\n",
       " (u'character', 30265),\n",
       " (u'good', 28930),\n",
       " (u'would', 27660),\n",
       " (u'author', 24824),\n",
       " (u'love', 24805)]"
      ]
     },
     "execution_count": 34,
     "metadata": {},
     "output_type": "execute_result"
    }
   ],
   "source": [
    "word_features.most_common(10)"
   ]
  },
  {
   "cell_type": "code",
   "execution_count": 35,
   "metadata": {
    "collapsed": false
   },
   "outputs": [],
   "source": [
    "topwords = [fpair[0] for fpair in list(word_features.most_common(10000))]"
   ]
  },
  {
   "cell_type": "code",
   "execution_count": 69,
   "metadata": {
    "collapsed": false
   },
   "outputs": [
    {
     "name": "stdout",
     "output_type": "stream",
     "text": [
      "<type 'list'>\n",
      "['book', u'story', u'read', u'one', 'like', u'character', u'good', u'would', u'author', u'love']\n"
     ]
    },
    {
     "data": {
      "text/plain": [
       "10000"
      ]
     },
     "execution_count": 69,
     "metadata": {},
     "output_type": "execute_result"
    }
   ],
   "source": [
    "print type(topwords)\n",
    "print topwords[:10]\n",
    "len(topwords)"
   ]
  },
  {
   "cell_type": "markdown",
   "metadata": {},
   "source": [
    "### Vectorizer"
   ]
  },
  {
   "cell_type": "code",
   "execution_count": 70,
   "metadata": {
    "collapsed": false,
    "scrolled": true
   },
   "outputs": [
    {
     "data": {
      "text/plain": [
       "CountVectorizer(analyzer=u'word', binary=False, decode_error=u'strict',\n",
       "        dtype=<type 'numpy.int64'>, encoding=u'utf-8', input=u'content',\n",
       "        lowercase=True, max_df=1.0, max_features=None, min_df=1,\n",
       "        ngram_range=(1, 1), preprocessor=None, stop_words=None,\n",
       "        strip_accents=None, token_pattern=u'(?u)\\\\b\\\\w\\\\w+\\\\b',\n",
       "        tokenizer=None, vocabulary=None)"
      ]
     },
     "execution_count": 70,
     "metadata": {},
     "output_type": "execute_result"
    }
   ],
   "source": [
    "cnt_vec = CountVectorizer()\n",
    "cnt_vec"
   ]
  },
  {
   "cell_type": "code",
   "execution_count": 72,
   "metadata": {
    "collapsed": false
   },
   "outputs": [
    {
     "data": {
      "text/plain": [
       "<1x9969 sparse matrix of type '<type 'numpy.int64'>'\n",
       "\twith 9969 stored elements in Compressed Sparse Row format>"
      ]
     },
     "execution_count": 72,
     "metadata": {},
     "output_type": "execute_result"
    }
   ],
   "source": [
    "cnt_fit = cnt_vec.fit_transform([' '.join(topwords)])\n",
    "cnt_fit"
   ]
  },
  {
   "cell_type": "code",
   "execution_count": 73,
   "metadata": {
    "collapsed": false
   },
   "outputs": [
    {
     "data": {
      "text/plain": [
       "{u'unimaginative': 9371,\n",
       " u'foul': 3643,\n",
       " u'four': 3649,\n",
       " u'hanging': 4076,\n",
       " u'gabriella': 3747,\n",
       " u'payoff': 6485,\n",
       " u'increase': 4530,\n",
       " u'eligible': 2923,\n",
       " u'electricity': 2910,\n",
       " u'unanswered': 9304,\n",
       " u'originality': 6286,\n",
       " u'opener': 6245,\n",
       " u'lori': 5366,\n",
       " u'starsi': 8457,\n",
       " u'lore': 5365,\n",
       " u'lord': 5364,\n",
       " u'immature': 4452,\n",
       " u'hormone': 4319,\n",
       " u'rational': 7163,\n",
       " u'delf': 2355,\n",
       " u'callie': 1315,\n",
       " u'tantalizing': 8832,\n",
       " u'yellow': 9926,\n",
       " u'politician': 6704,\n",
       " u'bringing': 1199,\n",
       " u'scholar': 7810,\n",
       " u'wooden': 9837,\n",
       " u'succession': 8650,\n",
       " u'stereotypical': 8500,\n",
       " u'straight': 8542,\n",
       " u'annie': 483,\n",
       " u'charter': 1503,\n",
       " u'specially': 8358,\n",
       " u'tired': 9060,\n",
       " u'miller': 5743,\n",
       " u'preface': 6799,\n",
       " u'bacon': 796,\n",
       " u'pulse': 7024,\n",
       " u'sanderson': 7740,\n",
       " u'elegant': 2913,\n",
       " u'second': 7861,\n",
       " u'loathing': 5325,\n",
       " u'ruthless': 7686,\n",
       " u'thunder': 9025,\n",
       " u'cooking': 1992,\n",
       " u'contributed': 1956,\n",
       " u'designing': 2438,\n",
       " u'increasing': 4532,\n",
       " u'groupie': 4004,\n",
       " u'admiral': 250,\n",
       " u'specialist': 8357,\n",
       " u'hero': 4210,\n",
       " u'reporter': 7418,\n",
       " u'avery': 751,\n",
       " u'herb': 4208,\n",
       " u'error': 3108,\n",
       " u'jasmine': 4831,\n",
       " u'reported': 7417,\n",
       " u'china': 1553,\n",
       " u'cult': 2157,\n",
       " u'conversational': 1971,\n",
       " u'substance': 8636,\n",
       " u'uplifting': 9433,\n",
       " u'elaborate': 2897,\n",
       " u'controversy': 1964,\n",
       " u'karin': 4966,\n",
       " u'military': 5740,\n",
       " u'criticism': 2123,\n",
       " u'golden': 3892,\n",
       " u'divide': 2647,\n",
       " u'magically': 5464,\n",
       " u'disability': 2563,\n",
       " u'explained': 3257,\n",
       " u'norse': 6106,\n",
       " u'replace': 7411,\n",
       " u'brought': 1220,\n",
       " u'carb': 1369,\n",
       " u'stern': 8502,\n",
       " u'unit': 9380,\n",
       " u'cheating': 1513,\n",
       " u'dna': 2656,\n",
       " u'spoke': 8402,\n",
       " u'catchy': 1429,\n",
       " u'insecurity': 4613,\n",
       " u'vol': 9593,\n",
       " u'faerie': 3322,\n",
       " u'music': 5923,\n",
       " u'therefore': 8970,\n",
       " u'strike': 8573,\n",
       " u'playboy': 6645,\n",
       " u'holy': 4282,\n",
       " u'relax': 7340,\n",
       " u'successful': 8648,\n",
       " u'brings': 1200,\n",
       " u'holt': 4281,\n",
       " u'yahoo': 9913,\n",
       " u'hurt': 4386,\n",
       " u'99': 111,\n",
       " u'glass': 3862,\n",
       " u'tying': 9280,\n",
       " u'90': 105,\n",
       " u'hole': 4273,\n",
       " u'hold': 4269,\n",
       " u'95': 106,\n",
       " u'97': 107,\n",
       " u'tastefully': 8847,\n",
       " u'intake': 4656,\n",
       " u'morally': 5865,\n",
       " u'locked': 5334,\n",
       " u'pursue': 7047,\n",
       " u'blade': 1014,\n",
       " u'description': 2428,\n",
       " u'example': 3192,\n",
       " u'triple': 9217,\n",
       " u'household': 4346,\n",
       " u'organized': 6278,\n",
       " u'caution': 1440,\n",
       " u'reviewing': 7515,\n",
       " u'want': 9636,\n",
       " u'counseling': 2034,\n",
       " u'absolute': 140,\n",
       " u'preferably': 6801,\n",
       " u'turn': 9258,\n",
       " u'complaining': 1804,\n",
       " u'travel': 9179,\n",
       " u'feature': 3400,\n",
       " u'revisit': 7518,\n",
       " u'machine': 5442,\n",
       " u'hot': 4337,\n",
       " u'machina': 5440,\n",
       " u'hop': 4310,\n",
       " u'significance': 8100,\n",
       " u'turk': 9255,\n",
       " u'ronnie': 7628,\n",
       " u'classify': 1625,\n",
       " u'gaming': 3764,\n",
       " u'beauty': 878,\n",
       " u'funny': 3732,\n",
       " u'typed': 9283,\n",
       " u'misunderstanding': 5809,\n",
       " u'diagram': 2510,\n",
       " u'wrong': 9893,\n",
       " u'destined': 2453,\n",
       " u'vance': 9482,\n",
       " u'effective': 2877,\n",
       " u'fictional': 3436,\n",
       " u'baggage': 803,\n",
       " u'18th': 21,\n",
       " u'democratic': 2383,\n",
       " u'nonsensical': 6097,\n",
       " u'wing': 9792,\n",
       " u'wind': 9788,\n",
       " u'wine': 9791,\n",
       " u'restriction': 7480,\n",
       " u'afterwards': 311,\n",
       " u'feedback': 3408,\n",
       " u'welcomed': 9708,\n",
       " u'dreamed': 2742,\n",
       " u'vary': 9490,\n",
       " u'suspend': 8746,\n",
       " u'rewarded': 7527,\n",
       " u'dreamer': 2743,\n",
       " u'fir': 3479,\n",
       " u'wickedly': 9759,\n",
       " u'fit': 3495,\n",
       " u'screaming': 7834,\n",
       " u'fix': 3501,\n",
       " u'stevens': 8505,\n",
       " u'matured': 5599,\n",
       " u'conner': 1879,\n",
       " u'hidden': 4223,\n",
       " u'admirable': 249,\n",
       " u'easier': 2829,\n",
       " u'educating': 2870,\n",
       " u'interrupt': 4700,\n",
       " u'sixteen': 8150,\n",
       " u'undeveloped': 9344,\n",
       " u'silver': 8110,\n",
       " u'saddened': 7704,\n",
       " u'prize': 6883,\n",
       " u'represents': 7424,\n",
       " u'lillian': 5262,\n",
       " u'debut': 2281,\n",
       " u'arrow': 621,\n",
       " u'addicted': 226,\n",
       " u'interfering': 4688,\n",
       " u'whim': 9732,\n",
       " u'financial': 3465,\n",
       " u'series': 7947,\n",
       " u'spider': 8381,\n",
       " u'truman': 9238,\n",
       " u'ring': 7566,\n",
       " u'whip': 9738,\n",
       " u'rv': 7687,\n",
       " u'mayan': 5610,\n",
       " u'mason': 5572,\n",
       " u'encourage': 2998,\n",
       " u'adapt': 219,\n",
       " u'smh': 8231,\n",
       " u'foundation': 3645,\n",
       " u'assured': 675,\n",
       " u'dracula': 2722,\n",
       " u'threatened': 9004,\n",
       " u'sensory': 7925,\n",
       " u'kayla': 4980,\n",
       " u'necessarily': 5998,\n",
       " u'encountering': 2997,\n",
       " u'sandra': 7741,\n",
       " u'sheet': 8017,\n",
       " u'estimate': 3133,\n",
       " u'alert': 361,\n",
       " u'knit': 5050,\n",
       " u'enormous': 3047,\n",
       " u'ate': 680,\n",
       " u'exposing': 3276,\n",
       " u'diabetic': 2507,\n",
       " u'ups': 9436,\n",
       " u'shipped': 8039,\n",
       " u'disturbed': 2639,\n",
       " u'tempting': 8901,\n",
       " u'kingdom': 5031,\n",
       " u'clothes': 1678,\n",
       " u'nigel': 6069,\n",
       " u'subtlety': 8641,\n",
       " u'veggie': 9500,\n",
       " u'wash': 9657,\n",
       " u'spinning': 8386,\n",
       " u'clarity': 1617,\n",
       " u'bitten': 1007,\n",
       " u'basketball': 848,\n",
       " u'service': 7956,\n",
       " u'similarly': 8113,\n",
       " u'engagement': 3022,\n",
       " u'needed': 6006,\n",
       " u'master': 5576,\n",
       " u'listed': 5294,\n",
       " u'bitter': 1008,\n",
       " u'genesis': 3807,\n",
       " u'listen': 5295,\n",
       " u'collapse': 1711,\n",
       " u'convention': 1968,\n",
       " u'wisdom': 9804,\n",
       " u'predictable': 6798,\n",
       " u'crawl': 2087,\n",
       " u'positively': 6744,\n",
       " u'trek': 9195,\n",
       " u'peril': 6528,\n",
       " u'showed': 8074,\n",
       " u'outlaw': 6316,\n",
       " u'tree': 9194,\n",
       " u'likely': 5256,\n",
       " u'project': 6923,\n",
       " u'skimmed': 8170,\n",
       " u'feeling': 3411,\n",
       " u'este': 3131,\n",
       " u'esta': 3125,\n",
       " u'willingness': 9783,\n",
       " u'runner': 7673,\n",
       " u'boston': 1118,\n",
       " u'spectrum': 8364,\n",
       " u'corny': 2010,\n",
       " u'dozen': 2720,\n",
       " u'kidnap': 5009,\n",
       " u'wholesome': 9754,\n",
       " u'corbin': 2004,\n",
       " u'concrete': 1844,\n",
       " u'responsible': 7475,\n",
       " u'gripe': 3991,\n",
       " u'eagerly': 2816,\n",
       " u'connelly': 1878,\n",
       " u'recommended': 7244,\n",
       " u'causing': 1439,\n",
       " u'absorbed': 143,\n",
       " u'amusing': 445,\n",
       " u'season': 7856,\n",
       " u'committing': 1768,\n",
       " u'shall': 7991,\n",
       " u'thrilled': 9011,\n",
       " u'huh': 4362,\n",
       " u'object': 6164,\n",
       " u'looming': 5359,\n",
       " u'victoria': 9541,\n",
       " u'disjointed': 2611,\n",
       " u'affirmation': 298,\n",
       " u'mouth': 5892,\n",
       " u'addict': 225,\n",
       " u'letter': 5212,\n",
       " u'organization': 6276,\n",
       " u'resonated': 7458,\n",
       " u'thriller': 9012,\n",
       " u'morality': 5864,\n",
       " u'dummy': 2788,\n",
       " u'singer': 8133,\n",
       " u'episode': 3090,\n",
       " u'professor': 6911,\n",
       " u'camp': 1329,\n",
       " u'cami': 1327,\n",
       " u'tech': 8872,\n",
       " u'place': 6623,\n",
       " u'detriment': 2474,\n",
       " u'mating': 5591,\n",
       " u'scream': 7832,\n",
       " u'came': 1322,\n",
       " u'marvel': 5566,\n",
       " u'saying': 7784,\n",
       " u'bomb': 1081,\n",
       " u'teresa': 8914,\n",
       " u'bonnie': 1087,\n",
       " u'sexist': 7977,\n",
       " u'padded': 6379,\n",
       " u'participate': 6440,\n",
       " u'lethal': 5211,\n",
       " u'tempted': 8900,\n",
       " u'thai': 8945,\n",
       " u'orleans': 6289,\n",
       " u'busy': 1284,\n",
       " u'layout': 5148,\n",
       " u'louise': 5380,\n",
       " u'headline': 4145,\n",
       " u'menu': 5680,\n",
       " u'cupid': 2164,\n",
       " u'cougar': 2029,\n",
       " u'theme': 8958,\n",
       " u'bliss': 1040,\n",
       " u'touched': 9119,\n",
       " u'rich': 7540,\n",
       " u'heartily': 4169,\n",
       " u'rice': 7539,\n",
       " u'plate': 6641,\n",
       " u'wide': 9760,\n",
       " u'foremost': 3599,\n",
       " u'pocket': 6674,\n",
       " u'altogether': 412,\n",
       " u'relish': 7359,\n",
       " u'lds': 5151,\n",
       " u'jaguar': 4809,\n",
       " u'nicely': 6057,\n",
       " u'patch': 6465,\n",
       " u'release': 7344,\n",
       " u'saul': 7769,\n",
       " u'respond': 7469,\n",
       " u'blew': 1037,\n",
       " u'disaster': 2578,\n",
       " u'fair': 3330,\n",
       " u'sensitivity': 7924,\n",
       " u'evolving': 3181,\n",
       " u'unexpectedly': 9353,\n",
       " u'result': 7481,\n",
       " u'fail': 3324,\n",
       " u'hammer': 4063,\n",
       " u'best': 947,\n",
       " u'deuce': 2476,\n",
       " u'wikipedia': 9768,\n",
       " u'score': 7823,\n",
       " u'melissa': 5658,\n",
       " u'pirate': 6612,\n",
       " u'preserve': 6828,\n",
       " u'wage': 9611,\n",
       " u'never': 6036,\n",
       " u'extend': 3284,\n",
       " u'nature': 5981,\n",
       " u'rolled': 7612,\n",
       " u'extent': 3289,\n",
       " u'wth': 9899,\n",
       " u'debt': 2280,\n",
       " u'roller': 7613,\n",
       " u'pity': 6619,\n",
       " u'accident': 168,\n",
       " u'sacrificing': 7702,\n",
       " u'country': 2042,\n",
       " u'adapter': 222,\n",
       " u'adventurer': 277,\n",
       " u'edgar': 2856,\n",
       " u'planned': 6634,\n",
       " u'logic': 5338,\n",
       " u'argue': 588,\n",
       " u'adapted': 221,\n",
       " u'asked': 645,\n",
       " u'rehash': 7319,\n",
       " u'alternate': 408,\n",
       " u'miscommunication': 5780,\n",
       " u'vain': 9470,\n",
       " u'2nd': 54,\n",
       " u'framework': 3658,\n",
       " u'retelling': 7488,\n",
       " u'pregnancy': 6805,\n",
       " u'blonde': 1049,\n",
       " u'truthful': 9243,\n",
       " u'question': 7072,\n",
       " u'101': 7,\n",
       " u'union': 9376,\n",
       " u'twain': 9265,\n",
       " u'much': 5900,\n",
       " u'privilege': 6881,\n",
       " u'fry': 3711,\n",
       " u'incompetent': 4519,\n",
       " u'life': 5238,\n",
       " u'recomend': 7240,\n",
       " u'spit': 8393,\n",
       " u'eastern': 2834,\n",
       " u'worker': 9849,\n",
       " u'dave': 2255,\n",
       " u'lift': 5242,\n",
       " u'prostitution': 6969,\n",
       " u'child': 1546,\n",
       " u'worked': 9848,\n",
       " u'spin': 8383,\n",
       " u'chill': 1550,\n",
       " u'gritty': 3996,\n",
       " u'professionally': 6910,\n",
       " u'employ': 2978,\n",
       " u'visit': 9575,\n",
       " u'remembering': 7375,\n",
       " u'doormat': 2695,\n",
       " u'vulnerability': 9606,\n",
       " u'congratulation': 1870,\n",
       " u'played': 6646,\n",
       " u'expat': 3240,\n",
       " u'letdown': 5210,\n",
       " u'player': 6647,\n",
       " u'eighteen': 2893,\n",
       " u'anticipating': 507,\n",
       " u'trusted': 9240,\n",
       " u'damaged': 2211,\n",
       " u'credit': 2104,\n",
       " u'rebellion': 7217,\n",
       " u'split': 8397,\n",
       " u'elliott': 2938,\n",
       " u'european': 3144,\n",
       " u'fairly': 3331,\n",
       " u'boiled': 1078,\n",
       " u'effortlessly': 2883,\n",
       " u'inadvertently': 4503,\n",
       " u'preachy': 6789,\n",
       " u'ownership': 6359,\n",
       " u'tune': 9253,\n",
       " u'lucas': 5401,\n",
       " u'detracted': 2472,\n",
       " u'academic': 155,\n",
       " u'eagle': 2817,\n",
       " u'corporate': 2012,\n",
       " u'eroticism': 3107,\n",
       " u'joshua': 4906,\n",
       " u'appropriately': 568,\n",
       " u'sleepy': 8196,\n",
       " u'disguise': 2604,\n",
       " u'financially': 3466,\n",
       " u'plight': 6660,\n",
       " u'caregiver': 1380,\n",
       " u'portrayed': 6738,\n",
       " u'proofing': 6948,\n",
       " u'previous': 6851,\n",
       " u'enters': 3058,\n",
       " u'ham': 4061,\n",
       " u'dining': 2550,\n",
       " u'ease': 2828,\n",
       " u'emphasis': 2973,\n",
       " u'macdonald': 5439,\n",
       " u'hay': 4135,\n",
       " u'innocent': 4603,\n",
       " u'prison': 6877,\n",
       " u'east': 2832,\n",
       " u'hat': 4120,\n",
       " u'casually': 1422,\n",
       " u'quirk': 7088,\n",
       " u'survival': 8734,\n",
       " u'possible': 6750,\n",
       " u'awhile': 774,\n",
       " u'possibly': 6751,\n",
       " u'birth': 998,\n",
       " u'unlikely': 9392,\n",
       " u'pertinent': 6551,\n",
       " u'shadow': 7984,\n",
       " u'unique': 9377,\n",
       " u'occurring': 6194,\n",
       " u'desire': 2440,\n",
       " u'psychological': 7002,\n",
       " u'specie': 8360,\n",
       " u'bobby': 1072,\n",
       " u'alice': 370,\n",
       " u'remind': 7377,\n",
       " u'prologue': 6926,\n",
       " u'sebastian': 7860,\n",
       " u'battlefield': 860,\n",
       " u'beneficial': 933,\n",
       " u'right': 7561,\n",
       " u'old': 6223,\n",
       " u'creek': 2106,\n",
       " u'crowd': 2135,\n",
       " u'people': 6511,\n",
       " u'macabre': 5438,\n",
       " u'creed': 2105,\n",
       " u'easy': 2835,\n",
       " u'crown': 2136,\n",
       " u'captive': 1361,\n",
       " u'sure': 8717,\n",
       " u'nemesis': 6022,\n",
       " u'insistence': 4623,\n",
       " u'rereading': 7437,\n",
       " u'creep': 2107,\n",
       " u'bottom': 1123,\n",
       " u'fox': 3652,\n",
       " u'creative': 2096,\n",
       " u'witty': 9820,\n",
       " u'foe': 3567,\n",
       " u'fog': 3568,\n",
       " u'exposition': 3277,\n",
       " u'theological': 8961,\n",
       " u'energy': 3018,\n",
       " u'stefan': 8488,\n",
       " u'dnf': 2657,\n",
       " u'shifting': 8035,\n",
       " u'starring': 8456,\n",
       " u'alexandra': 365,\n",
       " u'losing': 5371,\n",
       " u'memorable': 5668,\n",
       " u'shaken': 7987,\n",
       " u'despair': 2443,\n",
       " u'lacked': 5080,\n",
       " u'slightly': 8207,\n",
       " u'sooo': 8307,\n",
       " u'nixon': 6082,\n",
       " u'raised': 7123,\n",
       " u'facility': 3311,\n",
       " u'maxwell': 5607,\n",
       " u'marshall': 5561,\n",
       " u'honeymoon': 4300,\n",
       " u'soo': 8304,\n",
       " u'son': 8302,\n",
       " u'thankful': 8948,\n",
       " u'juicing': 4928,\n",
       " u'wrap': 9876,\n",
       " u'reducing': 7269,\n",
       " u'despised': 2449,\n",
       " u'fabric': 3305,\n",
       " u'support': 8707,\n",
       " u'constantly': 1910,\n",
       " u'nova': 6126,\n",
       " u'tame': 8821,\n",
       " u'avail': 747,\n",
       " u'humorous': 4370,\n",
       " u'joseph': 4904,\n",
       " u'wordpress': 9842,\n",
       " u'greatness': 3971,\n",
       " u'jane': 4819,\n",
       " u'happy': 4088,\n",
       " u'typo': 9287,\n",
       " u'offer': 6207,\n",
       " u'fascination': 3367,\n",
       " u'forming': 3629,\n",
       " u'thesaurus': 8973,\n",
       " u'uuml': 9465,\n",
       " u'melanie': 5655,\n",
       " u'understandable': 9335,\n",
       " u'survive': 8735,\n",
       " u'otter': 6299,\n",
       " u'silliness': 8107,\n",
       " u'genealogy': 3797,\n",
       " u'inside': 4616,\n",
       " u'pest': 6552,\n",
       " u'mighty': 5733,\n",
       " u'passenger': 6452,\n",
       " u'juvenile': 4955,\n",
       " u'adopt': 261,\n",
       " u'liberal': 5225,\n",
       " u'tournament': 9124,\n",
       " u'indy': 4561,\n",
       " u'proven': 6985,\n",
       " u'somebody': 8292,\n",
       " u'exist': 3227,\n",
       " u'accounting': 180,\n",
       " u'dealer': 2268,\n",
       " u'cassie': 1417,\n",
       " u'leer': 5178,\n",
       " u'eventual': 3157,\n",
       " u'floor': 3543,\n",
       " u'zane': 9952,\n",
       " u'actor': 213,\n",
       " u'grammatical': 3938,\n",
       " u'role': 7609,\n",
       " u'ambitious': 428,\n",
       " u'rolf': 7610,\n",
       " u'jenkins': 4852,\n",
       " u'smell': 8230,\n",
       " u'roll': 7611,\n",
       " u'intend': 4665,\n",
       " u'meghan': 5652,\n",
       " u'rollins': 7616,\n",
       " u'transported': 9171,\n",
       " u'devon': 2496,\n",
       " u'invested': 4735,\n",
       " u'miranda': 5776,\n",
       " u'rolling': 7615,\n",
       " u'eacute': 2814,\n",
       " u'98': 109,\n",
       " u'time': 9047,\n",
       " u'push': 7052,\n",
       " u'breadth': 1158,\n",
       " u'newbie': 6039,\n",
       " u'chain': 1468,\n",
       " u'whoever': 9751,\n",
       " u'machination': 5441,\n",
       " u'hawaii': 4132,\n",
       " u'jarring': 4829,\n",
       " u'chair': 1469,\n",
       " u'midst': 5730,\n",
       " u'vet': 9528,\n",
       " u'uneven': 9351,\n",
       " u'freelance': 3682,\n",
       " u'macho': 5443,\n",
       " u'oversight': 6346,\n",
       " u'eliminate': 2925,\n",
       " u'downloading': 2715,\n",
       " u'icing': 4399,\n",
       " u'jerk': 4860,\n",
       " u'recipe': 7229,\n",
       " u'choice': 1559,\n",
       " u'embark': 2948,\n",
       " u'fullest': 3721,\n",
       " u'exact': 3183,\n",
       " u'minute': 5771,\n",
       " u'solves': 8290,\n",
       " u'tear': 8866,\n",
       " u'skewed': 8164,\n",
       " u'leave': 5172,\n",
       " u'solved': 8289,\n",
       " u'settle': 7962,\n",
       " u'subway': 8643,\n",
       " u'team': 8865,\n",
       " u'speculation': 8365,\n",
       " u'unaware': 9306,\n",
       " u'prevent': 6846,\n",
       " u'spiritual': 8390,\n",
       " u'accomplishment': 176,\n",
       " u'occurrence': 6193,\n",
       " u'attic': 705,\n",
       " u'sigh': 8095,\n",
       " u'sign': 8097,\n",
       " u'erotic': 3105,\n",
       " u'crescent': 2110,\n",
       " u'egrave': 2888,\n",
       " u'melt': 5662,\n",
       " u'current': 2169,\n",
       " u'wayward': 9678,\n",
       " u'axel': 781,\n",
       " u'falling': 3340,\n",
       " u'ground': 4001,\n",
       " u'boost': 1101,\n",
       " u'jury': 4949,\n",
       " u'funeral': 3729,\n",
       " u'understanding': 9337,\n",
       " u'contemplate': 1931,\n",
       " u'snack': 8247,\n",
       " u'address': 236,\n",
       " u'alone': 394,\n",
       " u'along': 395,\n",
       " u'benson': 939,\n",
       " u'redemption': 7266,\n",
       " u'brilliant': 1196,\n",
       " u'impacted': 4467,\n",
       " u'studied': 8598,\n",
       " u'wherever': 9728,\n",
       " u'commonly': 1770,\n",
       " u'accomplished': 175,\n",
       " u'myers': 5932,\n",
       " u'love': 5384,\n",
       " u'prefer': 6800,\n",
       " u'logical': 5339,\n",
       " u'bloody': 1052,\n",
       " u'marvelous': 5567,\n",
       " u'logically': 5340,\n",
       " u'fake': 3337,\n",
       " u'forefront': 3597,\n",
       " u'carol': 1391,\n",
       " u'sky': 8179,\n",
       " u'crammed': 2076,\n",
       " u'working': 9850,\n",
       " u'positive': 6743,\n",
       " u'angry': 472,\n",
       " u'tightly': 9042,\n",
       " u'cherished': 1534,\n",
       " u'opposed': 6258,\n",
       " u'wondering': 9831,\n",
       " u'scope': 7821,\n",
       " u'theoretical': 8963,\n",
       " u'loving': 5390,\n",
       " u'scratched': 7830,\n",
       " u'introducing': 4723,\n",
       " u'afford': 299,\n",
       " u'apparent': 536,\n",
       " u'oregon': 6272,\n",
       " u'thompson': 8991,\n",
       " u'visual': 9579,\n",
       " u'appendix': 546,\n",
       " u'everywhere': 3167,\n",
       " u'virtue': 9570,\n",
       " u'easiest': 2830,\n",
       " u'behalf': 902,\n",
       " u'involve': 4749,\n",
       " u'deserved': 2432,\n",
       " u'originally': 6287,\n",
       " u'pretend': 6838,\n",
       " u'abortion': 131,\n",
       " u'believer': 916,\n",
       " u'interracial': 4699,\n",
       " u'vega': 9496,\n",
       " u'phoebe': 6572,\n",
       " u'believed': 915,\n",
       " u'detached': 2461,\n",
       " u'admired': 253,\n",
       " u'locke': 5333,\n",
       " u'awesome': 771,\n",
       " u'allowed': 386,\n",
       " u'offense': 6205,\n",
       " u'stole': 8525,\n",
       " u'evidently': 3170,\n",
       " u'listens': 5298,\n",
       " u'winter': 9797,\n",
       " u'savor': 7778,\n",
       " u'cozy': 2066,\n",
       " u'divided': 2648,\n",
       " u'immune': 4463,\n",
       " u'elephant': 2918,\n",
       " u'jazz': 4839,\n",
       " u'explores': 3270,\n",
       " u'explorer': 3269,\n",
       " u'spot': 8407,\n",
       " u'mythos': 5945,\n",
       " u'fueled': 3714,\n",
       " u'explored': 3268,\n",
       " u'matt': 5593,\n",
       " u'date': 2250,\n",
       " u'suck': 8654,\n",
       " u'data': 2249,\n",
       " u'stress': 8564,\n",
       " u'surfing': 8720,\n",
       " u'natural': 5979,\n",
       " u'conscious': 1888,\n",
       " u'biographical': 992,\n",
       " u'wheelchair': 9724,\n",
       " u'su': 8616,\n",
       " u'st': 8426,\n",
       " u'sk': 8157,\n",
       " u'opinionated': 6255,\n",
       " u'si': 8084,\n",
       " u'truck': 9234,\n",
       " u'sa': 7693,\n",
       " u'pulled': 7021,\n",
       " u'sf': 7982,\n",
       " u'se': 7846,\n",
       " u'drunken': 2772,\n",
       " u'footstep': 3590,\n",
       " u'unacceptable': 9303,\n",
       " u'damage': 2210,\n",
       " u'course': 2050,\n",
       " u'deity': 2345,\n",
       " u'tendency': 8905,\n",
       " u'tore': 9106,\n",
       " u'avid': 753,\n",
       " u'disconnect': 2587,\n",
       " u'solace': 8278,\n",
       " u'lackluster': 5082,\n",
       " u'torn': 9109,\n",
       " u'methodology': 5706,\n",
       " u'attraction': 711,\n",
       " u'suspicion': 8751,\n",
       " u'suspension': 8750,\n",
       " u'troubled': 9231,\n",
       " u'instantly': 4642,\n",
       " u'conveying': 1977,\n",
       " u'thereby': 8969,\n",
       " u'civilian': 1604,\n",
       " u'smarter': 8228,\n",
       " u'insomnia': 4625,\n",
       " u'nation': 5976,\n",
       " u'compelled': 1789,\n",
       " u'arriving': 618,\n",
       " u'sorted': 8322,\n",
       " u'twilight': 9272,\n",
       " u'maintaining': 5479,\n",
       " u'matched': 5584,\n",
       " u'frank': 3664,\n",
       " u'brody': 1209,\n",
       " u'establishing': 3128,\n",
       " u'quarter': 7068,\n",
       " u'turtle': 9262,\n",
       " u'square': 8422,\n",
       " u'retrieve': 7495,\n",
       " u'credential': 2101,\n",
       " u'crushing': 2144,\n",
       " u'entering': 3056,\n",
       " u'sexually': 7980,\n",
       " u'troll': 9226,\n",
       " u'container': 1928,\n",
       " u'imogen': 4465,\n",
       " u'contained': 1927,\n",
       " u'investigation': 4738,\n",
       " u'trauma': 9176,\n",
       " u'hcg': 4137,\n",
       " u'internet': 4695,\n",
       " u'suggesting': 8672,\n",
       " u'formula': 3630,\n",
       " u'astral': 678,\n",
       " u'bordering': 1105,\n",
       " u'siege': 8092,\n",
       " u'million': 5745,\n",
       " u'seventh': 7969,\n",
       " u'possibility': 6749,\n",
       " u'quite': 7091,\n",
       " u'complicated': 1816,\n",
       " u'besides': 946,\n",
       " u'grandma': 3946,\n",
       " u'quits': 7092,\n",
       " u'scarred': 7799,\n",
       " u'remainder': 7365,\n",
       " u'seventy': 7970,\n",
       " u'training': 9152,\n",
       " u'disguised': 2605,\n",
       " u'tasting': 8848,\n",
       " u'programming': 6918,\n",
       " u'modest': 5831,\n",
       " u'spending': 8376,\n",
       " u'massive': 5575,\n",
       " u'misused': 5812,\n",
       " u'neglect': 6012,\n",
       " u'jumbled': 4938,\n",
       " u'emotion': 2967,\n",
       " u'intuition': 4727,\n",
       " u'saving': 7776,\n",
       " u'ignored': 4422,\n",
       " u'spoken': 8403,\n",
       " u'potter': 6762,\n",
       " u'mucho': 5901,\n",
       " u'submit': 8625,\n",
       " u'spanish': 8344,\n",
       " u'vote': 9600,\n",
       " u'tamara': 8820,\n",
       " u'open': 6243,\n",
       " u'ripping': 7575,\n",
       " u'city': 1602,\n",
       " u'wrath': 9879,\n",
       " u'bite': 1005,\n",
       " u'structured': 8587,\n",
       " u'indicate': 4546,\n",
       " u'teacher': 8863,\n",
       " u'shiver': 8043,\n",
       " u'draft': 2723,\n",
       " u'stuffed': 8603,\n",
       " u'typing': 9286,\n",
       " u'infected': 4572,\n",
       " u'cite': 1599,\n",
       " u'williams': 9780,\n",
       " u'iacute': 4395,\n",
       " u'shawn': 8011,\n",
       " u'proving': 6991,\n",
       " u'artifact': 627,\n",
       " u'padding': 6380,\n",
       " u'ridiculous': 7555,\n",
       " u'antic': 504,\n",
       " u'fooled': 3585,\n",
       " u'boyfriend': 1139,\n",
       " u'translate': 9163,\n",
       " u'depressed': 2411,\n",
       " u'rival': 7583,\n",
       " u'rehab': 7318,\n",
       " u'future': 3739,\n",
       " u'sophie': 8311,\n",
       " u'counselor': 2035,\n",
       " u'wandering': 9633,\n",
       " u'russia': 7681,\n",
       " u'sophia': 8310,\n",
       " u'prospect': 6965,\n",
       " u'addressing': 238,\n",
       " u'illness': 4431,\n",
       " u'san': 7736,\n",
       " u'sam': 7729,\n",
       " u'sal': 7721,\n",
       " u'turned': 9259,\n",
       " u'argument': 592,\n",
       " u'alley': 379,\n",
       " u'sad': 7703,\n",
       " u'say': 7783,\n",
       " u'buried': 1272,\n",
       " u'lurking': 5418,\n",
       " u'sas': 7755,\n",
       " u'allen': 377,\n",
       " u'turner': 9260,\n",
       " u'saw': 7780,\n",
       " u'sat': 7758,\n",
       " u'zoe': 9962,\n",
       " u'wink': 9793,\n",
       " u'aside': 642,\n",
       " u'zoo': 9966,\n",
       " u'note': 6115,\n",
       " u'intends': 4667,\n",
       " u'jefferson': 4847,\n",
       " u'take': 8809,\n",
       " u'destroy': 2455,\n",
       " u'butterfly': 1290,\n",
       " u'ironically': 4765,\n",
       " u'murphy': 5916,\n",
       " u'altered': 407,\n",
       " u'opposite': 6260,\n",
       " u'knew': 5047,\n",
       " u'fails': 3327,\n",
       " u'printed': 6873,\n",
       " u'crochet': 2126,\n",
       " u'knee': 5046,\n",
       " u'inserted': 4615,\n",
       " u'average': 750,\n",
       " u'phil': 6565,\n",
       " u'drive': 2756,\n",
       " u'managing': 5501,\n",
       " u'backdrop': 787,\n",
       " u'axe': 780,\n",
       " u'link': 5284,\n",
       " u'salt': 7727,\n",
       " u'walking': 9624,\n",
       " u'merit': 5686,\n",
       " u'bright': 1192,\n",
       " u'inconsistent': 4523,\n",
       " u'aggressive': 319,\n",
       " u'imagined': 4448,\n",
       " u'slot': 8216,\n",
       " u'slow': 8217,\n",
       " u'going': 3890,\n",
       " u'hockey': 4266,\n",
       " u'equipped': 3096,\n",
       " u'caroline': 1393,\n",
       " u'carolina': 1392,\n",
       " u'guarded': 4017,\n",
       " u'explosion': 3272,\n",
       " u'psychiatrist': 6999,\n",
       " u'assistant': 664,\n",
       " u'freezing': 3686,\n",
       " u'cursing': 2174,\n",
       " u'simplistic': 8122,\n",
       " u'outlet': 6317,\n",
       " u'mysticism': 5940,\n",
       " u'awaiting': 759,\n",
       " u'prime': 6865,\n",
       " u'resource': 7461,\n",
       " u'bestselling': 949,\n",
       " u'artist': 629,\n",
       " u'borrow': 1112,\n",
       " u'worried': 9859,\n",
       " u'priest': 6860,\n",
       " u'roger': 7606,\n",
       " u'uncover': 9322,\n",
       " u'hotness': 4339,\n",
       " u'vision': 9574,\n",
       " u'enthralled': 3064,\n",
       " u'keyboard': 5003,\n",
       " u'gangster': 3766,\n",
       " u'anyways': 522,\n",
       " u'surgery': 8722,\n",
       " u'erica': 3102,\n",
       " u'aroused': 607,\n",
       " u'refresher': 7293,\n",
       " u'dexter': 2504,\n",
       " u'enlightening': 3044,\n",
       " u'maturity': 5600,\n",
       " u'jumped': 4940,\n",
       " u'sir': 8140,\n",
       " u'sable': 7695,\n",
       " u'affecting': 295,\n",
       " u'enjoys': 3041,\n",
       " u'smoothy': 8244,\n",
       " u'uk': 9295,\n",
       " u'vertical': 9525,\n",
       " u'screen': 7835,\n",
       " u'clayton': 1633,\n",
       " u'concentrate': 1832,\n",
       " u'spare': 8348,\n",
       " u'lovingly': 5391,\n",
       " u'spark': 8349,\n",
       " u'doms': 2685,\n",
       " u'deliciously': 2361,\n",
       " u'many': 5522,\n",
       " u'millionaire': 5746,\n",
       " u'flipped': 3535,\n",
       " u'loudly': 5378,\n",
       " u'kjv': 5044,\n",
       " u'workplace': 9852,\n",
       " u'expression': 3282,\n",
       " u'riddle': 7550,\n",
       " u'twin': 9273,\n",
       " u'anti': 503,\n",
       " u'sentinel': 7932,\n",
       " u'considers': 1901,\n",
       " u'boat': 1070,\n",
       " u'narcissistic': 5961,\n",
       " u'caring': 1385,\n",
       " u'better': 957,\n",
       " u'chad': 1467,\n",
       " u'testimonial': 8935,\n",
       " u'teddy': 8880,\n",
       " u'stretch': 8567,\n",
       " u'west': 9715,\n",
       " u'vacation': 9467,\n",
       " ...}"
      ]
     },
     "execution_count": 73,
     "metadata": {},
     "output_type": "execute_result"
    }
   ],
   "source": [
    "cnt_vec.vocabulary_"
   ]
  },
  {
   "cell_type": "markdown",
   "metadata": {},
   "source": [
    "#### Tf–idf term weighting"
   ]
  },
  {
   "cell_type": "markdown",
   "metadata": {},
   "source": [
    "- Tf: term-frequency\n",
    "- idf: inverse document-frequency\n",
    "- Tf-idf = $tf(t,d) \\times idf(t)$\n",
    "\n",
    "$$\n",
    "idf(t) = log{\\frac{1 + nd}{1 + df(d, t)}} + 1\n",
    "$$\n",
    "\n",
    "![](http://www.onemathematicalcat.org/Math/Algebra_II_obj/Graphics/log_base_gt1.gif)"
   ]
  },
  {
   "cell_type": "markdown",
   "metadata": {},
   "source": [
    "> Sentent 1: The boy **love** the toy\n",
    "\n",
    "> Sentent 2: The boy **hate** the toy"
   ]
  },
  {
   "cell_type": "code",
   "execution_count": 47,
   "metadata": {
    "collapsed": false
   },
   "outputs": [
    {
     "data": {
      "text/plain": [
       "TfidfTransformer(norm=u'l2', smooth_idf=False, sublinear_tf=False,\n",
       "         use_idf=True)"
      ]
     },
     "execution_count": 47,
     "metadata": {},
     "output_type": "execute_result"
    }
   ],
   "source": [
    "transformer = TfidfTransformer(smooth_idf=False)\n",
    "transformer"
   ]
  },
  {
   "cell_type": "code",
   "execution_count": 48,
   "metadata": {
    "collapsed": false
   },
   "outputs": [
    {
     "data": {
      "text/plain": [
       "<6x3 sparse matrix of type '<type 'numpy.float64'>'\n",
       "\twith 9 stored elements in Compressed Sparse Row format>"
      ]
     },
     "execution_count": 48,
     "metadata": {},
     "output_type": "execute_result"
    }
   ],
   "source": [
    "counts = [[3, 0, 1],\n",
    "          [2, 0, 0],\n",
    "          [3, 0, 0],\n",
    "          [4, 0, 0],\n",
    "          [3, 2, 0],\n",
    "          [3, 0, 2]]\n",
    "tfidf = transformer.fit_transform(counts)\n",
    "tfidf"
   ]
  },
  {
   "cell_type": "code",
   "execution_count": 49,
   "metadata": {
    "collapsed": false
   },
   "outputs": [
    {
     "data": {
      "text/plain": [
       "array([[ 0.81940995,  0.        ,  0.57320793],\n",
       "       [ 1.        ,  0.        ,  0.        ],\n",
       "       [ 1.        ,  0.        ,  0.        ],\n",
       "       [ 1.        ,  0.        ,  0.        ],\n",
       "       [ 0.47330339,  0.88089948,  0.        ],\n",
       "       [ 0.58149261,  0.        ,  0.81355169]])"
      ]
     },
     "execution_count": 49,
     "metadata": {},
     "output_type": "execute_result"
    }
   ],
   "source": [
    "tfidf.toarray()"
   ]
  },
  {
   "cell_type": "code",
   "execution_count": 58,
   "metadata": {
    "collapsed": false
   },
   "outputs": [
    {
     "data": {
      "text/plain": [
       "<1x9969 sparse matrix of type '<type 'numpy.float64'>'\n",
       "\twith 9969 stored elements in Compressed Sparse Row format>"
      ]
     },
     "execution_count": 58,
     "metadata": {},
     "output_type": "execute_result"
    }
   ],
   "source": [
    "tf_trans = TfidfTransformer()\n",
    "tf_fit = tf_trans.fit_transform(cnt_fit)\n",
    "tf_fit"
   ]
  },
  {
   "cell_type": "code",
   "execution_count": 59,
   "metadata": {
    "collapsed": false
   },
   "outputs": [
    {
     "data": {
      "text/plain": [
       "array([[ 0.01001554,  0.01001554,  0.01001554, ...,  0.01001554,\n",
       "         0.01001554,  0.01001554]])"
      ]
     },
     "execution_count": 59,
     "metadata": {},
     "output_type": "execute_result"
    }
   ],
   "source": [
    "tf_fit.toarray()"
   ]
  },
  {
   "cell_type": "code",
   "execution_count": 74,
   "metadata": {
    "collapsed": false
   },
   "outputs": [
    {
     "data": {
      "text/plain": [
       "<1x9969 sparse matrix of type '<type 'numpy.float64'>'\n",
       "\twith 9969 stored elements in Compressed Sparse Row format>"
      ]
     },
     "execution_count": 74,
     "metadata": {},
     "output_type": "execute_result"
    }
   ],
   "source": [
    "# Since CountVectorizer and TfidTransformer are often used together\n",
    "# There is a class named TfidfVectorizer that combine these two steps\n",
    "tf_vec = TfidfVectorizer(min_df=1)\n",
    "tf_fit = tf_vec.fit_transform([' '.join(topwords)])\n",
    "tf_fit"
   ]
  },
  {
   "cell_type": "code",
   "execution_count": 75,
   "metadata": {
    "collapsed": false
   },
   "outputs": [
    {
     "data": {
      "text/plain": [
       "{u'unimaginative': 9371,\n",
       " u'foul': 3643,\n",
       " u'four': 3649,\n",
       " u'hanging': 4076,\n",
       " u'gabriella': 3747,\n",
       " u'payoff': 6485,\n",
       " u'increase': 4530,\n",
       " u'eligible': 2923,\n",
       " u'electricity': 2910,\n",
       " u'unanswered': 9304,\n",
       " u'originality': 6286,\n",
       " u'opener': 6245,\n",
       " u'lori': 5366,\n",
       " u'starsi': 8457,\n",
       " u'lore': 5365,\n",
       " u'lord': 5364,\n",
       " u'immature': 4452,\n",
       " u'hormone': 4319,\n",
       " u'rational': 7163,\n",
       " u'delf': 2355,\n",
       " u'callie': 1315,\n",
       " u'tantalizing': 8832,\n",
       " u'yellow': 9926,\n",
       " u'politician': 6704,\n",
       " u'bringing': 1199,\n",
       " u'scholar': 7810,\n",
       " u'wooden': 9837,\n",
       " u'succession': 8650,\n",
       " u'stereotypical': 8500,\n",
       " u'straight': 8542,\n",
       " u'annie': 483,\n",
       " u'charter': 1503,\n",
       " u'specially': 8358,\n",
       " u'tired': 9060,\n",
       " u'miller': 5743,\n",
       " u'preface': 6799,\n",
       " u'bacon': 796,\n",
       " u'pulse': 7024,\n",
       " u'sanderson': 7740,\n",
       " u'elegant': 2913,\n",
       " u'second': 7861,\n",
       " u'loathing': 5325,\n",
       " u'ruthless': 7686,\n",
       " u'thunder': 9025,\n",
       " u'cooking': 1992,\n",
       " u'contributed': 1956,\n",
       " u'designing': 2438,\n",
       " u'increasing': 4532,\n",
       " u'groupie': 4004,\n",
       " u'admiral': 250,\n",
       " u'specialist': 8357,\n",
       " u'hero': 4210,\n",
       " u'reporter': 7418,\n",
       " u'avery': 751,\n",
       " u'herb': 4208,\n",
       " u'error': 3108,\n",
       " u'jasmine': 4831,\n",
       " u'reported': 7417,\n",
       " u'china': 1553,\n",
       " u'cult': 2157,\n",
       " u'conversational': 1971,\n",
       " u'substance': 8636,\n",
       " u'uplifting': 9433,\n",
       " u'elaborate': 2897,\n",
       " u'controversy': 1964,\n",
       " u'karin': 4966,\n",
       " u'military': 5740,\n",
       " u'criticism': 2123,\n",
       " u'golden': 3892,\n",
       " u'divide': 2647,\n",
       " u'magically': 5464,\n",
       " u'disability': 2563,\n",
       " u'explained': 3257,\n",
       " u'norse': 6106,\n",
       " u'replace': 7411,\n",
       " u'brought': 1220,\n",
       " u'carb': 1369,\n",
       " u'stern': 8502,\n",
       " u'unit': 9380,\n",
       " u'cheating': 1513,\n",
       " u'dna': 2656,\n",
       " u'spoke': 8402,\n",
       " u'catchy': 1429,\n",
       " u'insecurity': 4613,\n",
       " u'vol': 9593,\n",
       " u'faerie': 3322,\n",
       " u'music': 5923,\n",
       " u'therefore': 8970,\n",
       " u'strike': 8573,\n",
       " u'playboy': 6645,\n",
       " u'holy': 4282,\n",
       " u'relax': 7340,\n",
       " u'successful': 8648,\n",
       " u'brings': 1200,\n",
       " u'holt': 4281,\n",
       " u'yahoo': 9913,\n",
       " u'hurt': 4386,\n",
       " u'99': 111,\n",
       " u'glass': 3862,\n",
       " u'tying': 9280,\n",
       " u'90': 105,\n",
       " u'hole': 4273,\n",
       " u'hold': 4269,\n",
       " u'95': 106,\n",
       " u'97': 107,\n",
       " u'tastefully': 8847,\n",
       " u'intake': 4656,\n",
       " u'morally': 5865,\n",
       " u'locked': 5334,\n",
       " u'pursue': 7047,\n",
       " u'blade': 1014,\n",
       " u'description': 2428,\n",
       " u'example': 3192,\n",
       " u'triple': 9217,\n",
       " u'household': 4346,\n",
       " u'organized': 6278,\n",
       " u'caution': 1440,\n",
       " u'reviewing': 7515,\n",
       " u'want': 9636,\n",
       " u'counseling': 2034,\n",
       " u'absolute': 140,\n",
       " u'preferably': 6801,\n",
       " u'turn': 9258,\n",
       " u'complaining': 1804,\n",
       " u'travel': 9179,\n",
       " u'feature': 3400,\n",
       " u'revisit': 7518,\n",
       " u'machine': 5442,\n",
       " u'hot': 4337,\n",
       " u'machina': 5440,\n",
       " u'hop': 4310,\n",
       " u'significance': 8100,\n",
       " u'turk': 9255,\n",
       " u'ronnie': 7628,\n",
       " u'classify': 1625,\n",
       " u'gaming': 3764,\n",
       " u'beauty': 878,\n",
       " u'funny': 3732,\n",
       " u'typed': 9283,\n",
       " u'misunderstanding': 5809,\n",
       " u'diagram': 2510,\n",
       " u'wrong': 9893,\n",
       " u'destined': 2453,\n",
       " u'vance': 9482,\n",
       " u'effective': 2877,\n",
       " u'fictional': 3436,\n",
       " u'baggage': 803,\n",
       " u'18th': 21,\n",
       " u'democratic': 2383,\n",
       " u'nonsensical': 6097,\n",
       " u'wing': 9792,\n",
       " u'wind': 9788,\n",
       " u'wine': 9791,\n",
       " u'restriction': 7480,\n",
       " u'afterwards': 311,\n",
       " u'feedback': 3408,\n",
       " u'welcomed': 9708,\n",
       " u'dreamed': 2742,\n",
       " u'vary': 9490,\n",
       " u'suspend': 8746,\n",
       " u'rewarded': 7527,\n",
       " u'dreamer': 2743,\n",
       " u'fir': 3479,\n",
       " u'wickedly': 9759,\n",
       " u'fit': 3495,\n",
       " u'screaming': 7834,\n",
       " u'fix': 3501,\n",
       " u'stevens': 8505,\n",
       " u'matured': 5599,\n",
       " u'conner': 1879,\n",
       " u'hidden': 4223,\n",
       " u'admirable': 249,\n",
       " u'easier': 2829,\n",
       " u'educating': 2870,\n",
       " u'interrupt': 4700,\n",
       " u'sixteen': 8150,\n",
       " u'undeveloped': 9344,\n",
       " u'silver': 8110,\n",
       " u'saddened': 7704,\n",
       " u'prize': 6883,\n",
       " u'represents': 7424,\n",
       " u'lillian': 5262,\n",
       " u'debut': 2281,\n",
       " u'arrow': 621,\n",
       " u'addicted': 226,\n",
       " u'interfering': 4688,\n",
       " u'whim': 9732,\n",
       " u'financial': 3465,\n",
       " u'series': 7947,\n",
       " u'spider': 8381,\n",
       " u'truman': 9238,\n",
       " u'ring': 7566,\n",
       " u'whip': 9738,\n",
       " u'rv': 7687,\n",
       " u'mayan': 5610,\n",
       " u'mason': 5572,\n",
       " u'encourage': 2998,\n",
       " u'adapt': 219,\n",
       " u'smh': 8231,\n",
       " u'foundation': 3645,\n",
       " u'assured': 675,\n",
       " u'dracula': 2722,\n",
       " u'threatened': 9004,\n",
       " u'sensory': 7925,\n",
       " u'kayla': 4980,\n",
       " u'necessarily': 5998,\n",
       " u'encountering': 2997,\n",
       " u'sandra': 7741,\n",
       " u'sheet': 8017,\n",
       " u'estimate': 3133,\n",
       " u'alert': 361,\n",
       " u'knit': 5050,\n",
       " u'enormous': 3047,\n",
       " u'ate': 680,\n",
       " u'exposing': 3276,\n",
       " u'diabetic': 2507,\n",
       " u'ups': 9436,\n",
       " u'shipped': 8039,\n",
       " u'disturbed': 2639,\n",
       " u'tempting': 8901,\n",
       " u'kingdom': 5031,\n",
       " u'clothes': 1678,\n",
       " u'nigel': 6069,\n",
       " u'subtlety': 8641,\n",
       " u'veggie': 9500,\n",
       " u'wash': 9657,\n",
       " u'spinning': 8386,\n",
       " u'clarity': 1617,\n",
       " u'bitten': 1007,\n",
       " u'basketball': 848,\n",
       " u'service': 7956,\n",
       " u'similarly': 8113,\n",
       " u'engagement': 3022,\n",
       " u'needed': 6006,\n",
       " u'master': 5576,\n",
       " u'listed': 5294,\n",
       " u'bitter': 1008,\n",
       " u'genesis': 3807,\n",
       " u'listen': 5295,\n",
       " u'collapse': 1711,\n",
       " u'convention': 1968,\n",
       " u'wisdom': 9804,\n",
       " u'predictable': 6798,\n",
       " u'crawl': 2087,\n",
       " u'positively': 6744,\n",
       " u'trek': 9195,\n",
       " u'peril': 6528,\n",
       " u'showed': 8074,\n",
       " u'outlaw': 6316,\n",
       " u'tree': 9194,\n",
       " u'likely': 5256,\n",
       " u'project': 6923,\n",
       " u'skimmed': 8170,\n",
       " u'feeling': 3411,\n",
       " u'este': 3131,\n",
       " u'esta': 3125,\n",
       " u'willingness': 9783,\n",
       " u'runner': 7673,\n",
       " u'boston': 1118,\n",
       " u'spectrum': 8364,\n",
       " u'corny': 2010,\n",
       " u'dozen': 2720,\n",
       " u'kidnap': 5009,\n",
       " u'wholesome': 9754,\n",
       " u'corbin': 2004,\n",
       " u'concrete': 1844,\n",
       " u'responsible': 7475,\n",
       " u'gripe': 3991,\n",
       " u'eagerly': 2816,\n",
       " u'connelly': 1878,\n",
       " u'recommended': 7244,\n",
       " u'causing': 1439,\n",
       " u'absorbed': 143,\n",
       " u'amusing': 445,\n",
       " u'season': 7856,\n",
       " u'committing': 1768,\n",
       " u'shall': 7991,\n",
       " u'thrilled': 9011,\n",
       " u'huh': 4362,\n",
       " u'object': 6164,\n",
       " u'looming': 5359,\n",
       " u'victoria': 9541,\n",
       " u'disjointed': 2611,\n",
       " u'affirmation': 298,\n",
       " u'mouth': 5892,\n",
       " u'addict': 225,\n",
       " u'letter': 5212,\n",
       " u'organization': 6276,\n",
       " u'resonated': 7458,\n",
       " u'thriller': 9012,\n",
       " u'morality': 5864,\n",
       " u'dummy': 2788,\n",
       " u'singer': 8133,\n",
       " u'episode': 3090,\n",
       " u'professor': 6911,\n",
       " u'camp': 1329,\n",
       " u'cami': 1327,\n",
       " u'tech': 8872,\n",
       " u'place': 6623,\n",
       " u'detriment': 2474,\n",
       " u'mating': 5591,\n",
       " u'scream': 7832,\n",
       " u'came': 1322,\n",
       " u'marvel': 5566,\n",
       " u'saying': 7784,\n",
       " u'bomb': 1081,\n",
       " u'teresa': 8914,\n",
       " u'bonnie': 1087,\n",
       " u'sexist': 7977,\n",
       " u'padded': 6379,\n",
       " u'participate': 6440,\n",
       " u'lethal': 5211,\n",
       " u'tempted': 8900,\n",
       " u'thai': 8945,\n",
       " u'orleans': 6289,\n",
       " u'busy': 1284,\n",
       " u'layout': 5148,\n",
       " u'louise': 5380,\n",
       " u'headline': 4145,\n",
       " u'menu': 5680,\n",
       " u'cupid': 2164,\n",
       " u'cougar': 2029,\n",
       " u'theme': 8958,\n",
       " u'bliss': 1040,\n",
       " u'touched': 9119,\n",
       " u'rich': 7540,\n",
       " u'heartily': 4169,\n",
       " u'rice': 7539,\n",
       " u'plate': 6641,\n",
       " u'wide': 9760,\n",
       " u'foremost': 3599,\n",
       " u'pocket': 6674,\n",
       " u'altogether': 412,\n",
       " u'relish': 7359,\n",
       " u'lds': 5151,\n",
       " u'jaguar': 4809,\n",
       " u'nicely': 6057,\n",
       " u'patch': 6465,\n",
       " u'release': 7344,\n",
       " u'saul': 7769,\n",
       " u'respond': 7469,\n",
       " u'blew': 1037,\n",
       " u'disaster': 2578,\n",
       " u'fair': 3330,\n",
       " u'sensitivity': 7924,\n",
       " u'evolving': 3181,\n",
       " u'unexpectedly': 9353,\n",
       " u'result': 7481,\n",
       " u'fail': 3324,\n",
       " u'hammer': 4063,\n",
       " u'best': 947,\n",
       " u'deuce': 2476,\n",
       " u'wikipedia': 9768,\n",
       " u'score': 7823,\n",
       " u'melissa': 5658,\n",
       " u'pirate': 6612,\n",
       " u'preserve': 6828,\n",
       " u'wage': 9611,\n",
       " u'never': 6036,\n",
       " u'extend': 3284,\n",
       " u'nature': 5981,\n",
       " u'rolled': 7612,\n",
       " u'extent': 3289,\n",
       " u'wth': 9899,\n",
       " u'debt': 2280,\n",
       " u'roller': 7613,\n",
       " u'pity': 6619,\n",
       " u'accident': 168,\n",
       " u'sacrificing': 7702,\n",
       " u'country': 2042,\n",
       " u'adapter': 222,\n",
       " u'adventurer': 277,\n",
       " u'edgar': 2856,\n",
       " u'planned': 6634,\n",
       " u'logic': 5338,\n",
       " u'argue': 588,\n",
       " u'adapted': 221,\n",
       " u'asked': 645,\n",
       " u'rehash': 7319,\n",
       " u'alternate': 408,\n",
       " u'miscommunication': 5780,\n",
       " u'vain': 9470,\n",
       " u'2nd': 54,\n",
       " u'framework': 3658,\n",
       " u'retelling': 7488,\n",
       " u'pregnancy': 6805,\n",
       " u'blonde': 1049,\n",
       " u'truthful': 9243,\n",
       " u'question': 7072,\n",
       " u'101': 7,\n",
       " u'union': 9376,\n",
       " u'twain': 9265,\n",
       " u'much': 5900,\n",
       " u'privilege': 6881,\n",
       " u'fry': 3711,\n",
       " u'incompetent': 4519,\n",
       " u'life': 5238,\n",
       " u'recomend': 7240,\n",
       " u'spit': 8393,\n",
       " u'eastern': 2834,\n",
       " u'worker': 9849,\n",
       " u'dave': 2255,\n",
       " u'lift': 5242,\n",
       " u'prostitution': 6969,\n",
       " u'child': 1546,\n",
       " u'worked': 9848,\n",
       " u'spin': 8383,\n",
       " u'chill': 1550,\n",
       " u'gritty': 3996,\n",
       " u'professionally': 6910,\n",
       " u'employ': 2978,\n",
       " u'visit': 9575,\n",
       " u'remembering': 7375,\n",
       " u'doormat': 2695,\n",
       " u'vulnerability': 9606,\n",
       " u'congratulation': 1870,\n",
       " u'played': 6646,\n",
       " u'expat': 3240,\n",
       " u'letdown': 5210,\n",
       " u'player': 6647,\n",
       " u'eighteen': 2893,\n",
       " u'anticipating': 507,\n",
       " u'trusted': 9240,\n",
       " u'damaged': 2211,\n",
       " u'credit': 2104,\n",
       " u'rebellion': 7217,\n",
       " u'split': 8397,\n",
       " u'elliott': 2938,\n",
       " u'european': 3144,\n",
       " u'fairly': 3331,\n",
       " u'boiled': 1078,\n",
       " u'effortlessly': 2883,\n",
       " u'inadvertently': 4503,\n",
       " u'preachy': 6789,\n",
       " u'ownership': 6359,\n",
       " u'tune': 9253,\n",
       " u'lucas': 5401,\n",
       " u'detracted': 2472,\n",
       " u'academic': 155,\n",
       " u'eagle': 2817,\n",
       " u'corporate': 2012,\n",
       " u'eroticism': 3107,\n",
       " u'joshua': 4906,\n",
       " u'appropriately': 568,\n",
       " u'sleepy': 8196,\n",
       " u'disguise': 2604,\n",
       " u'financially': 3466,\n",
       " u'plight': 6660,\n",
       " u'caregiver': 1380,\n",
       " u'portrayed': 6738,\n",
       " u'proofing': 6948,\n",
       " u'previous': 6851,\n",
       " u'enters': 3058,\n",
       " u'ham': 4061,\n",
       " u'dining': 2550,\n",
       " u'ease': 2828,\n",
       " u'emphasis': 2973,\n",
       " u'macdonald': 5439,\n",
       " u'hay': 4135,\n",
       " u'innocent': 4603,\n",
       " u'prison': 6877,\n",
       " u'east': 2832,\n",
       " u'hat': 4120,\n",
       " u'casually': 1422,\n",
       " u'quirk': 7088,\n",
       " u'survival': 8734,\n",
       " u'possible': 6750,\n",
       " u'awhile': 774,\n",
       " u'possibly': 6751,\n",
       " u'birth': 998,\n",
       " u'unlikely': 9392,\n",
       " u'pertinent': 6551,\n",
       " u'shadow': 7984,\n",
       " u'unique': 9377,\n",
       " u'occurring': 6194,\n",
       " u'desire': 2440,\n",
       " u'psychological': 7002,\n",
       " u'specie': 8360,\n",
       " u'bobby': 1072,\n",
       " u'alice': 370,\n",
       " u'remind': 7377,\n",
       " u'prologue': 6926,\n",
       " u'sebastian': 7860,\n",
       " u'battlefield': 860,\n",
       " u'beneficial': 933,\n",
       " u'right': 7561,\n",
       " u'old': 6223,\n",
       " u'creek': 2106,\n",
       " u'crowd': 2135,\n",
       " u'people': 6511,\n",
       " u'macabre': 5438,\n",
       " u'creed': 2105,\n",
       " u'easy': 2835,\n",
       " u'crown': 2136,\n",
       " u'captive': 1361,\n",
       " u'sure': 8717,\n",
       " u'nemesis': 6022,\n",
       " u'insistence': 4623,\n",
       " u'rereading': 7437,\n",
       " u'creep': 2107,\n",
       " u'bottom': 1123,\n",
       " u'fox': 3652,\n",
       " u'creative': 2096,\n",
       " u'witty': 9820,\n",
       " u'foe': 3567,\n",
       " u'fog': 3568,\n",
       " u'exposition': 3277,\n",
       " u'theological': 8961,\n",
       " u'energy': 3018,\n",
       " u'stefan': 8488,\n",
       " u'dnf': 2657,\n",
       " u'shifting': 8035,\n",
       " u'starring': 8456,\n",
       " u'alexandra': 365,\n",
       " u'losing': 5371,\n",
       " u'memorable': 5668,\n",
       " u'shaken': 7987,\n",
       " u'despair': 2443,\n",
       " u'lacked': 5080,\n",
       " u'slightly': 8207,\n",
       " u'sooo': 8307,\n",
       " u'nixon': 6082,\n",
       " u'raised': 7123,\n",
       " u'facility': 3311,\n",
       " u'maxwell': 5607,\n",
       " u'marshall': 5561,\n",
       " u'honeymoon': 4300,\n",
       " u'soo': 8304,\n",
       " u'son': 8302,\n",
       " u'thankful': 8948,\n",
       " u'juicing': 4928,\n",
       " u'wrap': 9876,\n",
       " u'reducing': 7269,\n",
       " u'despised': 2449,\n",
       " u'fabric': 3305,\n",
       " u'support': 8707,\n",
       " u'constantly': 1910,\n",
       " u'nova': 6126,\n",
       " u'tame': 8821,\n",
       " u'avail': 747,\n",
       " u'humorous': 4370,\n",
       " u'joseph': 4904,\n",
       " u'wordpress': 9842,\n",
       " u'greatness': 3971,\n",
       " u'jane': 4819,\n",
       " u'happy': 4088,\n",
       " u'typo': 9287,\n",
       " u'offer': 6207,\n",
       " u'fascination': 3367,\n",
       " u'forming': 3629,\n",
       " u'thesaurus': 8973,\n",
       " u'uuml': 9465,\n",
       " u'melanie': 5655,\n",
       " u'understandable': 9335,\n",
       " u'survive': 8735,\n",
       " u'otter': 6299,\n",
       " u'silliness': 8107,\n",
       " u'genealogy': 3797,\n",
       " u'inside': 4616,\n",
       " u'pest': 6552,\n",
       " u'mighty': 5733,\n",
       " u'passenger': 6452,\n",
       " u'juvenile': 4955,\n",
       " u'adopt': 261,\n",
       " u'liberal': 5225,\n",
       " u'tournament': 9124,\n",
       " u'indy': 4561,\n",
       " u'proven': 6985,\n",
       " u'somebody': 8292,\n",
       " u'exist': 3227,\n",
       " u'accounting': 180,\n",
       " u'dealer': 2268,\n",
       " u'cassie': 1417,\n",
       " u'leer': 5178,\n",
       " u'eventual': 3157,\n",
       " u'floor': 3543,\n",
       " u'zane': 9952,\n",
       " u'actor': 213,\n",
       " u'grammatical': 3938,\n",
       " u'role': 7609,\n",
       " u'ambitious': 428,\n",
       " u'rolf': 7610,\n",
       " u'jenkins': 4852,\n",
       " u'smell': 8230,\n",
       " u'roll': 7611,\n",
       " u'intend': 4665,\n",
       " u'meghan': 5652,\n",
       " u'rollins': 7616,\n",
       " u'transported': 9171,\n",
       " u'devon': 2496,\n",
       " u'invested': 4735,\n",
       " u'miranda': 5776,\n",
       " u'rolling': 7615,\n",
       " u'eacute': 2814,\n",
       " u'98': 109,\n",
       " u'time': 9047,\n",
       " u'push': 7052,\n",
       " u'breadth': 1158,\n",
       " u'newbie': 6039,\n",
       " u'chain': 1468,\n",
       " u'whoever': 9751,\n",
       " u'machination': 5441,\n",
       " u'hawaii': 4132,\n",
       " u'jarring': 4829,\n",
       " u'chair': 1469,\n",
       " u'midst': 5730,\n",
       " u'vet': 9528,\n",
       " u'uneven': 9351,\n",
       " u'freelance': 3682,\n",
       " u'macho': 5443,\n",
       " u'oversight': 6346,\n",
       " u'eliminate': 2925,\n",
       " u'downloading': 2715,\n",
       " u'icing': 4399,\n",
       " u'jerk': 4860,\n",
       " u'recipe': 7229,\n",
       " u'choice': 1559,\n",
       " u'embark': 2948,\n",
       " u'fullest': 3721,\n",
       " u'exact': 3183,\n",
       " u'minute': 5771,\n",
       " u'solves': 8290,\n",
       " u'tear': 8866,\n",
       " u'skewed': 8164,\n",
       " u'leave': 5172,\n",
       " u'solved': 8289,\n",
       " u'settle': 7962,\n",
       " u'subway': 8643,\n",
       " u'team': 8865,\n",
       " u'speculation': 8365,\n",
       " u'unaware': 9306,\n",
       " u'prevent': 6846,\n",
       " u'spiritual': 8390,\n",
       " u'accomplishment': 176,\n",
       " u'occurrence': 6193,\n",
       " u'attic': 705,\n",
       " u'sigh': 8095,\n",
       " u'sign': 8097,\n",
       " u'erotic': 3105,\n",
       " u'crescent': 2110,\n",
       " u'egrave': 2888,\n",
       " u'melt': 5662,\n",
       " u'current': 2169,\n",
       " u'wayward': 9678,\n",
       " u'axel': 781,\n",
       " u'falling': 3340,\n",
       " u'ground': 4001,\n",
       " u'boost': 1101,\n",
       " u'jury': 4949,\n",
       " u'funeral': 3729,\n",
       " u'understanding': 9337,\n",
       " u'contemplate': 1931,\n",
       " u'snack': 8247,\n",
       " u'address': 236,\n",
       " u'alone': 394,\n",
       " u'along': 395,\n",
       " u'benson': 939,\n",
       " u'redemption': 7266,\n",
       " u'brilliant': 1196,\n",
       " u'impacted': 4467,\n",
       " u'studied': 8598,\n",
       " u'wherever': 9728,\n",
       " u'commonly': 1770,\n",
       " u'accomplished': 175,\n",
       " u'myers': 5932,\n",
       " u'love': 5384,\n",
       " u'prefer': 6800,\n",
       " u'logical': 5339,\n",
       " u'bloody': 1052,\n",
       " u'marvelous': 5567,\n",
       " u'logically': 5340,\n",
       " u'fake': 3337,\n",
       " u'forefront': 3597,\n",
       " u'carol': 1391,\n",
       " u'sky': 8179,\n",
       " u'crammed': 2076,\n",
       " u'working': 9850,\n",
       " u'positive': 6743,\n",
       " u'angry': 472,\n",
       " u'tightly': 9042,\n",
       " u'cherished': 1534,\n",
       " u'opposed': 6258,\n",
       " u'wondering': 9831,\n",
       " u'scope': 7821,\n",
       " u'theoretical': 8963,\n",
       " u'loving': 5390,\n",
       " u'scratched': 7830,\n",
       " u'introducing': 4723,\n",
       " u'afford': 299,\n",
       " u'apparent': 536,\n",
       " u'oregon': 6272,\n",
       " u'thompson': 8991,\n",
       " u'visual': 9579,\n",
       " u'appendix': 546,\n",
       " u'everywhere': 3167,\n",
       " u'virtue': 9570,\n",
       " u'easiest': 2830,\n",
       " u'behalf': 902,\n",
       " u'involve': 4749,\n",
       " u'deserved': 2432,\n",
       " u'originally': 6287,\n",
       " u'pretend': 6838,\n",
       " u'abortion': 131,\n",
       " u'believer': 916,\n",
       " u'interracial': 4699,\n",
       " u'vega': 9496,\n",
       " u'phoebe': 6572,\n",
       " u'believed': 915,\n",
       " u'detached': 2461,\n",
       " u'admired': 253,\n",
       " u'locke': 5333,\n",
       " u'awesome': 771,\n",
       " u'allowed': 386,\n",
       " u'offense': 6205,\n",
       " u'stole': 8525,\n",
       " u'evidently': 3170,\n",
       " u'listens': 5298,\n",
       " u'winter': 9797,\n",
       " u'savor': 7778,\n",
       " u'cozy': 2066,\n",
       " u'divided': 2648,\n",
       " u'immune': 4463,\n",
       " u'elephant': 2918,\n",
       " u'jazz': 4839,\n",
       " u'explores': 3270,\n",
       " u'explorer': 3269,\n",
       " u'spot': 8407,\n",
       " u'mythos': 5945,\n",
       " u'fueled': 3714,\n",
       " u'explored': 3268,\n",
       " u'matt': 5593,\n",
       " u'date': 2250,\n",
       " u'suck': 8654,\n",
       " u'data': 2249,\n",
       " u'stress': 8564,\n",
       " u'surfing': 8720,\n",
       " u'natural': 5979,\n",
       " u'conscious': 1888,\n",
       " u'biographical': 992,\n",
       " u'wheelchair': 9724,\n",
       " u'su': 8616,\n",
       " u'st': 8426,\n",
       " u'sk': 8157,\n",
       " u'opinionated': 6255,\n",
       " u'si': 8084,\n",
       " u'truck': 9234,\n",
       " u'sa': 7693,\n",
       " u'pulled': 7021,\n",
       " u'sf': 7982,\n",
       " u'se': 7846,\n",
       " u'drunken': 2772,\n",
       " u'footstep': 3590,\n",
       " u'unacceptable': 9303,\n",
       " u'damage': 2210,\n",
       " u'course': 2050,\n",
       " u'deity': 2345,\n",
       " u'tendency': 8905,\n",
       " u'tore': 9106,\n",
       " u'avid': 753,\n",
       " u'disconnect': 2587,\n",
       " u'solace': 8278,\n",
       " u'lackluster': 5082,\n",
       " u'torn': 9109,\n",
       " u'methodology': 5706,\n",
       " u'attraction': 711,\n",
       " u'suspicion': 8751,\n",
       " u'suspension': 8750,\n",
       " u'troubled': 9231,\n",
       " u'instantly': 4642,\n",
       " u'conveying': 1977,\n",
       " u'thereby': 8969,\n",
       " u'civilian': 1604,\n",
       " u'smarter': 8228,\n",
       " u'insomnia': 4625,\n",
       " u'nation': 5976,\n",
       " u'compelled': 1789,\n",
       " u'arriving': 618,\n",
       " u'sorted': 8322,\n",
       " u'twilight': 9272,\n",
       " u'maintaining': 5479,\n",
       " u'matched': 5584,\n",
       " u'frank': 3664,\n",
       " u'brody': 1209,\n",
       " u'establishing': 3128,\n",
       " u'quarter': 7068,\n",
       " u'turtle': 9262,\n",
       " u'square': 8422,\n",
       " u'retrieve': 7495,\n",
       " u'credential': 2101,\n",
       " u'crushing': 2144,\n",
       " u'entering': 3056,\n",
       " u'sexually': 7980,\n",
       " u'troll': 9226,\n",
       " u'container': 1928,\n",
       " u'imogen': 4465,\n",
       " u'contained': 1927,\n",
       " u'investigation': 4738,\n",
       " u'trauma': 9176,\n",
       " u'hcg': 4137,\n",
       " u'internet': 4695,\n",
       " u'suggesting': 8672,\n",
       " u'formula': 3630,\n",
       " u'astral': 678,\n",
       " u'bordering': 1105,\n",
       " u'siege': 8092,\n",
       " u'million': 5745,\n",
       " u'seventh': 7969,\n",
       " u'possibility': 6749,\n",
       " u'quite': 7091,\n",
       " u'complicated': 1816,\n",
       " u'besides': 946,\n",
       " u'grandma': 3946,\n",
       " u'quits': 7092,\n",
       " u'scarred': 7799,\n",
       " u'remainder': 7365,\n",
       " u'seventy': 7970,\n",
       " u'training': 9152,\n",
       " u'disguised': 2605,\n",
       " u'tasting': 8848,\n",
       " u'programming': 6918,\n",
       " u'modest': 5831,\n",
       " u'spending': 8376,\n",
       " u'massive': 5575,\n",
       " u'misused': 5812,\n",
       " u'neglect': 6012,\n",
       " u'jumbled': 4938,\n",
       " u'emotion': 2967,\n",
       " u'intuition': 4727,\n",
       " u'saving': 7776,\n",
       " u'ignored': 4422,\n",
       " u'spoken': 8403,\n",
       " u'potter': 6762,\n",
       " u'mucho': 5901,\n",
       " u'submit': 8625,\n",
       " u'spanish': 8344,\n",
       " u'vote': 9600,\n",
       " u'tamara': 8820,\n",
       " u'open': 6243,\n",
       " u'ripping': 7575,\n",
       " u'city': 1602,\n",
       " u'wrath': 9879,\n",
       " u'bite': 1005,\n",
       " u'structured': 8587,\n",
       " u'indicate': 4546,\n",
       " u'teacher': 8863,\n",
       " u'shiver': 8043,\n",
       " u'draft': 2723,\n",
       " u'stuffed': 8603,\n",
       " u'typing': 9286,\n",
       " u'infected': 4572,\n",
       " u'cite': 1599,\n",
       " u'williams': 9780,\n",
       " u'iacute': 4395,\n",
       " u'shawn': 8011,\n",
       " u'proving': 6991,\n",
       " u'artifact': 627,\n",
       " u'padding': 6380,\n",
       " u'ridiculous': 7555,\n",
       " u'antic': 504,\n",
       " u'fooled': 3585,\n",
       " u'boyfriend': 1139,\n",
       " u'translate': 9163,\n",
       " u'depressed': 2411,\n",
       " u'rival': 7583,\n",
       " u'rehab': 7318,\n",
       " u'future': 3739,\n",
       " u'sophie': 8311,\n",
       " u'counselor': 2035,\n",
       " u'wandering': 9633,\n",
       " u'russia': 7681,\n",
       " u'sophia': 8310,\n",
       " u'prospect': 6965,\n",
       " u'addressing': 238,\n",
       " u'illness': 4431,\n",
       " u'san': 7736,\n",
       " u'sam': 7729,\n",
       " u'sal': 7721,\n",
       " u'turned': 9259,\n",
       " u'argument': 592,\n",
       " u'alley': 379,\n",
       " u'sad': 7703,\n",
       " u'say': 7783,\n",
       " u'buried': 1272,\n",
       " u'lurking': 5418,\n",
       " u'sas': 7755,\n",
       " u'allen': 377,\n",
       " u'turner': 9260,\n",
       " u'saw': 7780,\n",
       " u'sat': 7758,\n",
       " u'zoe': 9962,\n",
       " u'wink': 9793,\n",
       " u'aside': 642,\n",
       " u'zoo': 9966,\n",
       " u'note': 6115,\n",
       " u'intends': 4667,\n",
       " u'jefferson': 4847,\n",
       " u'take': 8809,\n",
       " u'destroy': 2455,\n",
       " u'butterfly': 1290,\n",
       " u'ironically': 4765,\n",
       " u'murphy': 5916,\n",
       " u'altered': 407,\n",
       " u'opposite': 6260,\n",
       " u'knew': 5047,\n",
       " u'fails': 3327,\n",
       " u'printed': 6873,\n",
       " u'crochet': 2126,\n",
       " u'knee': 5046,\n",
       " u'inserted': 4615,\n",
       " u'average': 750,\n",
       " u'phil': 6565,\n",
       " u'drive': 2756,\n",
       " u'managing': 5501,\n",
       " u'backdrop': 787,\n",
       " u'axe': 780,\n",
       " u'link': 5284,\n",
       " u'salt': 7727,\n",
       " u'walking': 9624,\n",
       " u'merit': 5686,\n",
       " u'bright': 1192,\n",
       " u'inconsistent': 4523,\n",
       " u'aggressive': 319,\n",
       " u'imagined': 4448,\n",
       " u'slot': 8216,\n",
       " u'slow': 8217,\n",
       " u'going': 3890,\n",
       " u'hockey': 4266,\n",
       " u'equipped': 3096,\n",
       " u'caroline': 1393,\n",
       " u'carolina': 1392,\n",
       " u'guarded': 4017,\n",
       " u'explosion': 3272,\n",
       " u'psychiatrist': 6999,\n",
       " u'assistant': 664,\n",
       " u'freezing': 3686,\n",
       " u'cursing': 2174,\n",
       " u'simplistic': 8122,\n",
       " u'outlet': 6317,\n",
       " u'mysticism': 5940,\n",
       " u'awaiting': 759,\n",
       " u'prime': 6865,\n",
       " u'resource': 7461,\n",
       " u'bestselling': 949,\n",
       " u'artist': 629,\n",
       " u'borrow': 1112,\n",
       " u'worried': 9859,\n",
       " u'priest': 6860,\n",
       " u'roger': 7606,\n",
       " u'uncover': 9322,\n",
       " u'hotness': 4339,\n",
       " u'vision': 9574,\n",
       " u'enthralled': 3064,\n",
       " u'keyboard': 5003,\n",
       " u'gangster': 3766,\n",
       " u'anyways': 522,\n",
       " u'surgery': 8722,\n",
       " u'erica': 3102,\n",
       " u'aroused': 607,\n",
       " u'refresher': 7293,\n",
       " u'dexter': 2504,\n",
       " u'enlightening': 3044,\n",
       " u'maturity': 5600,\n",
       " u'jumped': 4940,\n",
       " u'sir': 8140,\n",
       " u'sable': 7695,\n",
       " u'affecting': 295,\n",
       " u'enjoys': 3041,\n",
       " u'smoothy': 8244,\n",
       " u'uk': 9295,\n",
       " u'vertical': 9525,\n",
       " u'screen': 7835,\n",
       " u'clayton': 1633,\n",
       " u'concentrate': 1832,\n",
       " u'spare': 8348,\n",
       " u'lovingly': 5391,\n",
       " u'spark': 8349,\n",
       " u'doms': 2685,\n",
       " u'deliciously': 2361,\n",
       " u'many': 5522,\n",
       " u'millionaire': 5746,\n",
       " u'flipped': 3535,\n",
       " u'loudly': 5378,\n",
       " u'kjv': 5044,\n",
       " u'workplace': 9852,\n",
       " u'expression': 3282,\n",
       " u'riddle': 7550,\n",
       " u'twin': 9273,\n",
       " u'anti': 503,\n",
       " u'sentinel': 7932,\n",
       " u'considers': 1901,\n",
       " u'boat': 1070,\n",
       " u'narcissistic': 5961,\n",
       " u'caring': 1385,\n",
       " u'better': 957,\n",
       " u'chad': 1467,\n",
       " u'testimonial': 8935,\n",
       " u'teddy': 8880,\n",
       " u'stretch': 8567,\n",
       " u'west': 9715,\n",
       " u'vacation': 9467,\n",
       " ...}"
      ]
     },
     "execution_count": 75,
     "metadata": {},
     "output_type": "execute_result"
    }
   ],
   "source": [
    "tf_vec.vocabulary_"
   ]
  },
  {
   "cell_type": "markdown",
   "metadata": {},
   "source": [
    "### Feature Extraction"
   ]
  },
  {
   "cell_type": "code",
   "execution_count": 76,
   "metadata": {
    "collapsed": false
   },
   "outputs": [],
   "source": [
    "# Extract features from training set\n",
    "# Vocabulary is from topwords\n",
    "train_features = tf_vec.transform(train_data)\n",
    "\n",
    "# cnt_train_features = cnt_vec.transform(train_data)\n",
    "# train_features = tf_trans.transform(cnt_train_features)"
   ]
  },
  {
   "cell_type": "code",
   "execution_count": 81,
   "metadata": {
    "collapsed": false
   },
   "outputs": [
    {
     "data": {
      "text/plain": [
       "(101496, 9969)"
      ]
     },
     "execution_count": 81,
     "metadata": {},
     "output_type": "execute_result"
    }
   ],
   "source": [
    "# Array[n_train_data * n_features]\n",
    "train_features.shape"
   ]
  },
  {
   "cell_type": "code",
   "execution_count": 82,
   "metadata": {
    "collapsed": false
   },
   "outputs": [],
   "source": [
    "# Extract features from test set\n",
    "test_features = tf_vec.transform(test_data)\n",
    "\n",
    "# cnt_test_features = cnt_vec.transform(test_data)\n",
    "# test_features = tf_trans.transform(cnt_test_features)"
   ]
  },
  {
   "cell_type": "code",
   "execution_count": 83,
   "metadata": {
    "collapsed": false
   },
   "outputs": [
    {
     "data": {
      "text/plain": [
       "(101496, 19937)"
      ]
     },
     "execution_count": 83,
     "metadata": {},
     "output_type": "execute_result"
    }
   ],
   "source": [
    "# (Uni+Bi)-Gram\n",
    "bg_tf_vec = TfidfVectorizer(ngram_range=(1,2))\n",
    "bg_tf_vec.fit([' '.join(topwords)])\n",
    "bg_train_features = bg_tf_vec.transform(train_data)\n",
    "\n",
    "bg_train_features.shape\n",
    "\n",
    "# Array[n_train_data * (uni_gram_features + bi_gram_features)]"
   ]
  },
  {
   "cell_type": "code",
   "execution_count": 84,
   "metadata": {
    "collapsed": true
   },
   "outputs": [],
   "source": [
    "# Extract (uni+bi)-gram test features\n",
    "bg_test_features = bg_tf_vec.transform(test_data)"
   ]
  },
  {
   "cell_type": "code",
   "execution_count": 89,
   "metadata": {
    "collapsed": false
   },
   "outputs": [
    {
     "name": "stdout",
     "output_type": "stream",
     "text": [
      "0.258198889747\n",
      "0.516397779494\n",
      "0.258198889747\n",
      "0.258198889747\n",
      "0.258198889747\n",
      "0.258198889747\n",
      "0.258198889747\n",
      "0.258198889747\n",
      "0.258198889747\n",
      "0.258198889747\n",
      "0.258198889747\n",
      "0.258198889747\n"
     ]
    }
   ],
   "source": [
    "for n in bg_test_features.toarray()[1,:]:\n",
    "    if n !=0:\n",
    "        print n"
   ]
  },
  {
   "cell_type": "markdown",
   "metadata": {},
   "source": [
    "### [Multinomial NB](http://scikit-learn.org/stable/modules/generated/sklearn.naive_bayes.MultinomialNB.html)\n",
    "\n",
    "The multinomial Naive Bayes classifier is suitable for **classification with discrete features** (e.g., word counts for text classification). The multinomial distribution normally requires integer feature counts. However, in practice, fractional counts such as tf-idf may also work."
   ]
  },
  {
   "cell_type": "code",
   "execution_count": 90,
   "metadata": {
    "collapsed": true
   },
   "outputs": [],
   "source": [
    "from sklearn.naive_bayes import MultinomialNB"
   ]
  },
  {
   "cell_type": "code",
   "execution_count": 91,
   "metadata": {
    "collapsed": true
   },
   "outputs": [],
   "source": [
    "mnb_model = MultinomialNB()"
   ]
  },
  {
   "cell_type": "code",
   "execution_count": 92,
   "metadata": {
    "collapsed": false
   },
   "outputs": [
    {
     "name": "stdout",
     "output_type": "stream",
     "text": [
      "Multinomial NB model trained in 0.370143 seconds\n"
     ]
    }
   ],
   "source": [
    "# Train Model\n",
    "start = time.time()\n",
    "mnb_model.fit(train_features, train_labels)\n",
    "end = time.time()\n",
    "\n",
    "print(\"Multinomial NB model trained in %f seconds\" % (end-start))"
   ]
  },
  {
   "cell_type": "code",
   "execution_count": 93,
   "metadata": {
    "collapsed": false
   },
   "outputs": [
    {
     "name": "stdout",
     "output_type": "stream",
     "text": [
      "['neg' 'pos' 'pos' ..., 'neg' 'pos' 'neg']\n"
     ]
    }
   ],
   "source": [
    "# Predict\n",
    "pred = mnb_model.predict(test_features)\n",
    "print(pred)"
   ]
  },
  {
   "cell_type": "code",
   "execution_count": 94,
   "metadata": {
    "collapsed": false
   },
   "outputs": [
    {
     "name": "stdout",
     "output_type": "stream",
     "text": [
      "0.819901477833\n"
     ]
    }
   ],
   "source": [
    "# Metrics\n",
    "# mtrics.accuracy_score(y_true, y_pred)\n",
    "accuracy = metrics.accuracy_score(pred,test_labels)\n",
    "print(accuracy)"
   ]
  },
  {
   "cell_type": "code",
   "execution_count": 95,
   "metadata": {
    "collapsed": false
   },
   "outputs": [
    {
     "name": "stdout",
     "output_type": "stream",
     "text": [
      "             precision    recall  f1-score   support\n",
      "\n",
      "        neg       0.83      0.80      0.81     12463\n",
      "        pos       0.81      0.84      0.83     12912\n",
      "\n",
      "avg / total       0.82      0.82      0.82     25375\n",
      "\n"
     ]
    }
   ],
   "source": [
    "# Use keyword arguments to set arguments explicitly\n",
    "print(metrics.classification_report(y_true=test_labels, y_pred=pred))"
   ]
  },
  {
   "cell_type": "code",
   "execution_count": 96,
   "metadata": {
    "collapsed": false
   },
   "outputs": [
    {
     "name": "stdout",
     "output_type": "stream",
     "text": [
      "             precision    recall  f1-score   support\n",
      "\n",
      "    class 0       0.50      1.00      0.67         1\n",
      "    class 1       0.00      0.00      0.00         1\n",
      "    class 2       1.00      0.67      0.80         3\n",
      "\n",
      "avg / total       0.70      0.60      0.61         5\n",
      "\n"
     ]
    }
   ],
   "source": [
    "# Example from sklearn documentation\n",
    "\n",
    "y_true = [0, 1, 2, 2, 2]\n",
    "y_pred = [0, 0, 2, 2, 1]\n",
    "target_names = ['class 0', 'class 1', 'class 2']\n",
    "print(metrics.classification_report(y_true, y_pred, target_names=target_names))"
   ]
  },
  {
   "cell_type": "markdown",
   "metadata": {},
   "source": [
    "#### Train & test using Uni-Gram + Bi-Gram features"
   ]
  },
  {
   "cell_type": "code",
   "execution_count": 97,
   "metadata": {
    "collapsed": false
   },
   "outputs": [
    {
     "name": "stdout",
     "output_type": "stream",
     "text": [
      "['neg' 'pos' 'pos' ..., 'neg' 'pos' 'neg']\n"
     ]
    }
   ],
   "source": [
    "# Train & test using (uni+bi)-gram features\n",
    "bg_mnb_model = MultinomialNB()\n",
    "bg_mnb_model.fit(bg_train_features, train_labels)\n",
    "bg_pred = bg_mnb_model.predict(bg_test_features)\n",
    "print(bg_pred)"
   ]
  },
  {
   "cell_type": "code",
   "execution_count": 98,
   "metadata": {
    "collapsed": false
   },
   "outputs": [
    {
     "name": "stdout",
     "output_type": "stream",
     "text": [
      "0.819665024631\n"
     ]
    }
   ],
   "source": [
    "# Statistics\n",
    "bg_accuracy = metrics.accuracy_score(bg_pred,test_labels)\n",
    "print(bg_accuracy)"
   ]
  },
  {
   "cell_type": "code",
   "execution_count": 99,
   "metadata": {
    "collapsed": false
   },
   "outputs": [
    {
     "name": "stdout",
     "output_type": "stream",
     "text": [
      "             precision    recall  f1-score   support\n",
      "\n",
      "        neg       0.83      0.80      0.81     12463\n",
      "        pos       0.81      0.84      0.83     12912\n",
      "\n",
      "avg / total       0.82      0.82      0.82     25375\n",
      "\n"
     ]
    }
   ],
   "source": [
    "print(metrics.classification_report(y_true=test_labels, y_pred=bg_pred))"
   ]
  },
  {
   "cell_type": "markdown",
   "metadata": {},
   "source": [
    "### Predict new sentences"
   ]
  },
  {
   "cell_type": "code",
   "execution_count": 101,
   "metadata": {
    "collapsed": false
   },
   "outputs": [],
   "source": [
    "# Predict a new sentence\n",
    "# vectorizer needs to be pre-fitted\n",
    "# At the end of the project, the function signature should be something like:\n",
    "# predict_new(sentent: str, vec, model) -> str\n",
    "\n",
    "def predict_new(sentence):\n",
    "    sentence = preprocessing(sentence)\n",
    "    features = tf_vec.transform([sentence])\n",
    "    pred = mnb_model.predict(features)\n",
    "    return pred[0]"
   ]
  },
  {
   "cell_type": "code",
   "execution_count": 102,
   "metadata": {
    "collapsed": false
   },
   "outputs": [
    {
     "data": {
      "text/plain": [
       "'pos'"
      ]
     },
     "execution_count": 102,
     "metadata": {},
     "output_type": "execute_result"
    }
   ],
   "source": [
    "predict_new(\"I love it\")"
   ]
  },
  {
   "cell_type": "markdown",
   "metadata": {},
   "source": [
    "### Save model"
   ]
  },
  {
   "cell_type": "code",
   "execution_count": 103,
   "metadata": {
    "collapsed": false
   },
   "outputs": [],
   "source": [
    "import pickle\n",
    "\n",
    "# Save vectorizer\n",
    "with open('tf_vec.pkl', 'wb') as pkl_file:\n",
    "    pickle.dump(tf_vec, pkl_file)"
   ]
  },
  {
   "cell_type": "code",
   "execution_count": 104,
   "metadata": {
    "collapsed": false
   },
   "outputs": [],
   "source": [
    "with open('mnb_model.pkl', 'wb') as pkl_file:\n",
    "    pickle.dump(mnb_model, pkl_file)"
   ]
  }
 ],
 "metadata": {
  "anaconda-cloud": {},
  "kernelspec": {
   "display_name": "Python [conda root]",
   "language": "python",
   "name": "conda-root-py"
  },
  "language_info": {
   "codemirror_mode": {
    "name": "ipython",
    "version": 2
   },
   "file_extension": ".py",
   "mimetype": "text/x-python",
   "name": "python",
   "nbconvert_exporter": "python",
   "pygments_lexer": "ipython2",
   "version": "2.7.13"
  }
 },
 "nbformat": 4,
 "nbformat_minor": 1
}
